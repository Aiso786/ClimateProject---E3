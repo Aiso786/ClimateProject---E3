{
 "cells": [
  {
   "cell_type": "code",
   "execution_count": 61,
   "metadata": {
    "collapsed": false
   },
   "outputs": [
    {
     "name": "stdout",
     "output_type": "stream",
     "text": [
      "Requirement already satisfied: PyYAML in /home/apprenant/PycharmProjects/ClimateProject---E3/env/lib/python3.8/site-packages (6.0)\r\n"
     ]
    }
   ],
   "source": [
    "import pandas as pd\n",
    "import opendatasets as od\n",
    "from tensorflow.keras.callbacks import EarlyStopping\n",
    "import numpy as np\n",
    "import matplotlib.pylab as plt\n",
    "from sklearn.model_selection import train_test_split\n",
    "from tensorflow.keras.preprocessing.image import ImageDataGenerator\n",
    "from tensorflow.keras import layers, models, optimizers\n",
    "from tensorflow.keras import backend as K\n",
    "from tensorflow.keras.backend import manual_variable_initialization \n",
    "from tensorflow.keras.models import model_from_yaml\n",
    "!pip3 install PyYAML"
   ]
  },
  {
   "cell_type": "code",
   "execution_count": 62,
   "metadata": {
    "collapsed": true
   },
   "outputs": [],
   "source": [
    "manual_variable_initialization(True)"
   ]
  },
  {
   "cell_type": "code",
   "execution_count": 63,
   "metadata": {
    "collapsed": false
   },
   "outputs": [
    {
     "name": "stdout",
     "output_type": "stream",
     "text": [
      "Skipping, found downloaded files in \"./ship-and-iceberg-images\" (use force=True to force download)\n"
     ]
    }
   ],
   "source": [
    "od.download(\"https://www.kaggle.com/saurabhbagchi/ship-and-iceberg-images\")"
   ]
  },
  {
   "cell_type": "code",
   "execution_count": 64,
   "metadata": {
    "collapsed": false
   },
   "outputs": [],
   "source": [
    "import os\n",
    "for dirname, _, filenames in os.walk('/home/apprenant/PycharmProjects/ClimateProject---E3/ship-and-iceberg-images/input_data.npz'):\n",
    "    for filename in filenames:\n",
    "        print(os.path.join(dirname, filename))"
   ]
  },
  {
   "cell_type": "markdown",
   "metadata": {},
   "source": [
    " # Load the data"
   ]
  },
  {
   "cell_type": "code",
   "execution_count": 65,
   "metadata": {
    "collapsed": false,
    "scrolled": true
   },
   "outputs": [],
   "source": [
    "npz = np.load('/home/apprenant/PycharmProjects/ClimateProject---E3/Data analysis/ship-and-iceberg-images/input_data.npz')\n",
    "\n",
    "x = npz['X_train']\n",
    "y = npz['Y_train']\n",
    "del npz"
   ]
  },
  {
   "cell_type": "code",
   "execution_count": 66,
   "metadata": {
    "collapsed": false
   },
   "outputs": [
    {
     "name": "stdout",
     "output_type": "stream",
     "text": [
      "<class 'numpy.ndarray'>\n"
     ]
    }
   ],
   "source": [
    "print(type(x))"
   ]
  },
  {
   "cell_type": "code",
   "execution_count": 67,
   "metadata": {
    "collapsed": false,
    "scrolled": false
   },
   "outputs": [
    {
     "name": "stdout",
     "output_type": "stream",
     "text": [
      "shape of picture: (4113, 75, 75, 3)\n",
      "shape of picture: (4113,)\n"
     ]
    }
   ],
   "source": [
    "print('shape of picture: {}'.format(x.shape))\n",
    "print('shape of picture: {}'.format(y.shape))"
   ]
  },
  {
   "cell_type": "code",
   "execution_count": 68,
   "metadata": {
    "collapsed": false
   },
   "outputs": [],
   "source": [
    "# First split the data in two sets, 80% for training, 20% for Val/Test)\n",
    "X_train, X_valtest, y_train, y_valtest = train_test_split(x,y, test_size=0.2, random_state=1, stratify=y)\n",
    "# Second split the 20% into validation and test sets\n",
    "X_test, X_val, y_test, y_val = train_test_split(X_valtest, y_valtest, test_size=0.8, random_state=1, stratify=y_valtest)"
   ]
  },
  {
   "cell_type": "code",
   "execution_count": 69,
   "metadata": {
    "collapsed": false
   },
   "outputs": [
    {
     "name": "stdout",
     "output_type": "stream",
     "text": [
      "(3290, 75, 75, 3)\n",
      "(659, 75, 75, 3)\n",
      "(164, 75, 75, 3)\n",
      "(3290,)\n",
      "(659,)\n",
      "(164,)\n"
     ]
    }
   ],
   "source": [
    "print(np.array(X_train).shape)\n",
    "print(np.array(X_val).shape)\n",
    "print(np.array(X_test).shape)\n",
    "print(np.array(y_train).shape)\n",
    "print(np.array(y_val).shape)\n",
    "print(np.array(y_test).shape)"
   ]
  },
  {
   "cell_type": "code",
   "execution_count": 70,
   "metadata": {
    "collapsed": false
   },
   "outputs": [
    {
     "name": "stdout",
     "output_type": "stream",
     "text": [
      "This is: Iceberg\n"
     ]
    }
   ],
   "source": [
    "ix = 100#0-4112\n",
    "labels = ['Ship','Iceberg']  #0 is no iceberg(ship) and 1 is iceberg\n",
    "print ('This is:',labels[int(y_train[ix])])"
   ]
  },
  {
   "cell_type": "code",
   "execution_count": 71,
   "metadata": {
    "collapsed": false
   },
   "outputs": [
    {
     "data": {
      "text/plain": [
       "'channels_last'"
      ]
     },
     "execution_count": 71,
     "metadata": {},
     "output_type": "execute_result"
    }
   ],
   "source": [
    "K.image_data_format()"
   ]
  },
  {
   "cell_type": "code",
   "execution_count": 72,
   "metadata": {
    "collapsed": true
   },
   "outputs": [],
   "source": [
    "img_width, img_height = 75, 75\n",
    "nb_train_samples = len(X_train)\n",
    "nb_validation_samples = len(X_val)\n",
    "epochs = 15\n",
    "batch_size = 32"
   ]
  },
  {
   "cell_type": "code",
   "execution_count": 73,
   "metadata": {
    "collapsed": false,
    "scrolled": true
   },
   "outputs": [
    {
     "name": "stderr",
     "output_type": "stream",
     "text": [
      "/home/apprenant/.local/lib/python3.8/site-packages/tensorflow/python/keras/optimizer_v2/optimizer_v2.py:374: UserWarning: The `lr` argument is deprecated, use `learning_rate` instead.\n",
      "  warnings.warn(\n"
     ]
    }
   ],
   "source": [
    "model = models.Sequential()\n",
    "\n",
    "model.add(layers.Conv2D(32, (3, 3), input_shape=(img_width, img_height, 3)))\n",
    "model.add(layers.Activation(\"relu\"))\n",
    "model.add(layers.MaxPooling2D((2, 2)))\n",
    "model.add(layers.Dropout(0.2))\n",
    "\n",
    "model.add(layers.Conv2D(64, (3, 3)))\n",
    "model.add(layers.Activation(\"relu\"))\n",
    "model.add(layers.MaxPooling2D((2, 2)))\n",
    "model.add(layers.Dropout(0.2))\n",
    "\n",
    "model.add(layers.Conv2D(64, (3, 3)))\n",
    "model.add(layers.Activation(\"relu\"))\n",
    "model.add(layers.MaxPooling2D((2, 2)))\n",
    "model.add(layers.Dropout(0.2))\n",
    "\n",
    "model.add(layers.Conv2D(64, (3, 3)))\n",
    "model.add(layers.Activation(\"relu\"))\n",
    "model.add(layers.MaxPooling2D((2, 2)))\n",
    "model.add(layers.Dropout(0.2))\n",
    "\n",
    "model.add(layers.Flatten())\n",
    "model.add(layers.Dense(64))\n",
    "model.add(layers.Activation(\"relu\"))\n",
    "model.add(layers.Dropout(0.2))\n",
    "\n",
    "model.add(layers.Dense(64))\n",
    "model.add(layers.Activation(\"relu\"))\n",
    "model.add(layers.Dropout(0.2))\n",
    "\n",
    "model.add(layers.Dense(1))\n",
    "model.add(layers.Activation(\"sigmoid\"))\n",
    "\n",
    "model.compile(\n",
    "    loss='binary_crossentropy',\n",
    "    optimizer=optimizers.Adam(lr=0.001),\n",
    "    metrics=['accuracy']);\n"
   ]
  },
  {
   "cell_type": "markdown",
   "metadata": {},
   "source": [
    "DATA AUGMENTATION"
   ]
  },
  {
   "cell_type": "code",
   "execution_count": 74,
   "metadata": {
    "collapsed": true
   },
   "outputs": [],
   "source": [
    "train_datagen = ImageDataGenerator(rescale=1. / 255, horizontal_flip=True, rotation_range=30)\n",
    "valtest_datagen = ImageDataGenerator(rescale=1. / 255)"
   ]
  },
  {
   "cell_type": "code",
   "execution_count": 75,
   "metadata": {
    "collapsed": false
   },
   "outputs": [],
   "source": [
    "train_generator = train_datagen.flow(np.array(X_train), y_train, batch_size=batch_size)\n",
    "validation_generator = valtest_datagen.flow(np.array(X_val), y_val, batch_size=batch_size)\n",
    "test_generator = valtest_datagen.flow(np.array(X_test), y_test, batch_size=batch_size)"
   ]
  },
  {
   "cell_type": "code",
   "execution_count": 76,
   "metadata": {
    "collapsed": false
   },
   "outputs": [],
   "source": [
    "# Create early stopping (once our model stops improving, stop training)\n",
    "early_stopping = EarlyStopping(monitor=\"val_accuracy\", patience=6) # stops after 6 rounds of no improvements"
   ]
  },
  {
   "cell_type": "code",
   "execution_count": 77,
   "metadata": {
    "collapsed": false,
    "scrolled": true
   },
   "outputs": [
    {
     "name": "stdout",
     "output_type": "stream",
     "text": [
      "Epoch 1/15\n",
      "103/103 [==============================] - 9s 85ms/step - loss: 0.6363 - accuracy: 0.6277 - val_loss: 0.5315 - val_accuracy: 0.7967\n",
      "Epoch 2/15\n",
      "103/103 [==============================] - 8s 83ms/step - loss: 0.4507 - accuracy: 0.8040 - val_loss: 0.3622 - val_accuracy: 0.8574\n",
      "Epoch 3/15\n",
      "103/103 [==============================] - 9s 84ms/step - loss: 0.3558 - accuracy: 0.8435 - val_loss: 0.3541 - val_accuracy: 0.8361\n",
      "Epoch 4/15\n",
      "103/103 [==============================] - 8s 82ms/step - loss: 0.3053 - accuracy: 0.8696 - val_loss: 0.2739 - val_accuracy: 0.8832\n",
      "Epoch 5/15\n",
      "103/103 [==============================] - 8s 81ms/step - loss: 0.2978 - accuracy: 0.8720 - val_loss: 0.2807 - val_accuracy: 0.8756\n",
      "Epoch 6/15\n",
      "103/103 [==============================] - 8s 80ms/step - loss: 0.2830 - accuracy: 0.8818 - val_loss: 0.2469 - val_accuracy: 0.8907\n",
      "Epoch 7/15\n",
      "103/103 [==============================] - 8s 79ms/step - loss: 0.2651 - accuracy: 0.8881 - val_loss: 0.2372 - val_accuracy: 0.8862\n",
      "Epoch 8/15\n",
      "103/103 [==============================] - 8s 80ms/step - loss: 0.2381 - accuracy: 0.8976 - val_loss: 0.2675 - val_accuracy: 0.8907\n",
      "Epoch 9/15\n",
      "103/103 [==============================] - 8s 79ms/step - loss: 0.2187 - accuracy: 0.9030 - val_loss: 0.2219 - val_accuracy: 0.8998\n",
      "Epoch 10/15\n",
      "103/103 [==============================] - 9s 83ms/step - loss: 0.2200 - accuracy: 0.9043 - val_loss: 0.2830 - val_accuracy: 0.8604\n",
      "Epoch 11/15\n",
      "103/103 [==============================] - 8s 81ms/step - loss: 0.2032 - accuracy: 0.9131 - val_loss: 0.2308 - val_accuracy: 0.9029\n",
      "Epoch 12/15\n",
      "103/103 [==============================] - 8s 80ms/step - loss: 0.2065 - accuracy: 0.9140 - val_loss: 0.2629 - val_accuracy: 0.8862\n",
      "Epoch 13/15\n",
      "103/103 [==============================] - 8s 79ms/step - loss: 0.1763 - accuracy: 0.9255 - val_loss: 0.2066 - val_accuracy: 0.9059\n",
      "Epoch 14/15\n",
      "103/103 [==============================] - 8s 81ms/step - loss: 0.1913 - accuracy: 0.9255 - val_loss: 0.2257 - val_accuracy: 0.9150\n",
      "Epoch 15/15\n",
      "103/103 [==============================] - 8s 80ms/step - loss: 0.1655 - accuracy: 0.9350 - val_loss: 0.2109 - val_accuracy: 0.9135\n"
     ]
    }
   ],
   "source": [
    "history = model.fit(\n",
    "    X_train, y_train, \n",
    "    batch_size,\n",
    "    epochs=epochs,\n",
    "    validation_data=(X_val, y_val),\n",
    "    callbacks=early_stopping,\n",
    ");"
   ]
  },
  {
   "cell_type": "markdown",
   "metadata": {},
   "source": [
    "# RUN CNN"
   ]
  },
  {
   "cell_type": "code",
   "execution_count": 78,
   "metadata": {
    "collapsed": false
   },
   "outputs": [
    {
     "data": {
      "image/png": "[encoded data removed]",
      "text/plain": [
       "<Figure size 432x288 with 1 Axes>"
      ]
     },
     "metadata": {
      "needs_background": "light"
     },
     "output_type": "display_data"
    },
    {
     "data": {
      "image/png": "[encoded data removed]",
      "text/plain": [
       "<Figure size 432x288 with 1 Axes>"
      ]
     },
     "metadata": {
      "needs_background": "light"
     },
     "output_type": "display_data"
    }
   ],
   "source": [
    "acc = history.history['accuracy']\n",
    "val_acc = history.history['val_accuracy']\n",
    "loss = history.history['loss']\n",
    "val_loss = history.history['val_loss']\n",
    "epochs = range(1, len(acc) + 1)\n",
    "plt.plot(epochs, acc, 'blue', label='Training acc')\n",
    "plt.plot(epochs, val_acc, 'red', label='Validation acc')\n",
    "plt.title('Training and validation accuracy')\n",
    "plt.legend()\n",
    "plt.figure()\n",
    "plt.plot(epochs, loss, 'blue', label='Training loss')\n",
    "plt.plot(epochs, val_loss, 'red', label='Validation loss')\n",
    "plt.title('Training and validation loss')\n",
    "plt.legend()\n",
    "plt.show()"
   ]
  },
  {
   "cell_type": "markdown",
   "metadata": {},
   "source": [
    "# ÉVALUATION"
   ]
  },
  {
   "cell_type": "code",
   "execution_count": 79,
   "metadata": {
    "collapsed": false
   },
   "outputs": [
    {
     "name": "stdout",
     "output_type": "stream",
     "text": [
      "{'loss': [0.6363214254379272, 0.45066604018211365, 0.35576131939888, 0.3052768111228943, 0.2978166937828064, 0.2829967439174652, 0.26506784558296204, 0.2380872666835785, 0.21868005394935608, 0.2200232744216919, 0.20319673418998718, 0.20647956430912018, 0.17630060017108917, 0.19132810831069946, 0.16550680994987488], 'accuracy': [0.6276595592498779, 0.8039513826370239, 0.8434650301933289, 0.8696048855781555, 0.8720364570617676, 0.8817629218101501, 0.888145923614502, 0.89756840467453, 0.9030395150184631, 0.9042553305625916, 0.9130699038505554, 0.9139817357063293, 0.9255319237709045, 0.9255319237709045, 0.9349544048309326], 'val_loss': [0.5314942598342896, 0.3622017800807953, 0.3541320562362671, 0.27386415004730225, 0.2806820869445801, 0.24687035381793976, 0.23721171915531158, 0.26745662093162537, 0.2219150811433792, 0.28300783038139343, 0.2308398187160492, 0.26292693614959717, 0.20657670497894287, 0.22566084563732147, 0.21093705296516418], 'val_accuracy': [0.7966616153717041, 0.8573596477508545, 0.836115300655365, 0.8831562995910645, 0.8755690455436707, 0.8907435536384583, 0.886191189289093, 0.8907435536384583, 0.8998482823371887, 0.8603945374488831, 0.9028831720352173, 0.886191189289093, 0.9059180617332458, 0.9150227904319763, 0.9135053157806396]}\n"
     ]
    }
   ],
   "source": [
    "print(history.history)"
   ]
  },
  {
   "cell_type": "code",
   "execution_count": 80,
   "metadata": {
    "collapsed": false
   },
   "outputs": [
    {
     "data": {
      "text/html": [
       "<div>\n",
       "<style scoped>\n",
       "    .dataframe tbody tr th:only-of-type {\n",
       "        vertical-align: middle;\n",
       "    }\n",
       "\n",
       "    .dataframe tbody tr th {\n",
       "        vertical-align: top;\n",
       "    }\n",
       "\n",
       "    .dataframe thead th {\n",
       "        text-align: right;\n",
       "    }\n",
       "</style>\n",
       "<table border=\"1\" class=\"dataframe\">\n",
       "  <thead>\n",
       "    <tr style=\"text-align: right;\">\n",
       "      <th></th>\n",
       "      <th>loss</th>\n",
       "      <th>accuracy</th>\n",
       "      <th>val_loss</th>\n",
       "      <th>val_accuracy</th>\n",
       "    </tr>\n",
       "  </thead>\n",
       "  <tbody>\n",
       "    <tr>\n",
       "      <th>0</th>\n",
       "      <td>0.636321</td>\n",
       "      <td>0.627660</td>\n",
       "      <td>0.531494</td>\n",
       "      <td>0.796662</td>\n",
       "    </tr>\n",
       "    <tr>\n",
       "      <th>1</th>\n",
       "      <td>0.450666</td>\n",
       "      <td>0.803951</td>\n",
       "      <td>0.362202</td>\n",
       "      <td>0.857360</td>\n",
       "    </tr>\n",
       "    <tr>\n",
       "      <th>2</th>\n",
       "      <td>0.355761</td>\n",
       "      <td>0.843465</td>\n",
       "      <td>0.354132</td>\n",
       "      <td>0.836115</td>\n",
       "    </tr>\n",
       "    <tr>\n",
       "      <th>3</th>\n",
       "      <td>0.305277</td>\n",
       "      <td>0.869605</td>\n",
       "      <td>0.273864</td>\n",
       "      <td>0.883156</td>\n",
       "    </tr>\n",
       "    <tr>\n",
       "      <th>4</th>\n",
       "      <td>0.297817</td>\n",
       "      <td>0.872036</td>\n",
       "      <td>0.280682</td>\n",
       "      <td>0.875569</td>\n",
       "    </tr>\n",
       "  </tbody>\n",
       "</table>\n",
       "</div>"
      ],
      "text/plain": [
       "       loss  accuracy  val_loss  val_accuracy\n",
       "0  0.636321  0.627660  0.531494      0.796662\n",
       "1  0.450666  0.803951  0.362202      0.857360\n",
       "2  0.355761  0.843465  0.354132      0.836115\n",
       "3  0.305277  0.869605  0.273864      0.883156\n",
       "4  0.297817  0.872036  0.280682      0.875569"
      ]
     },
     "execution_count": 80,
     "metadata": {},
     "output_type": "execute_result"
    }
   ],
   "source": [
    "\n",
    "\n",
    "#create a dataframe of the model training history\n",
    "results = pd.DataFrame(history.history)\n",
    "results.head()\n",
    "\n"
   ]
  },
  {
   "cell_type": "code",
   "execution_count": 81,
   "metadata": {
    "collapsed": false
   },
   "outputs": [
    {
     "data": {
      "image/png": "[encoded data removed]",
      "text/plain": [
       "<Figure size 432x288 with 1 Axes>"
      ]
     },
     "metadata": {
      "needs_background": "light"
     },
     "output_type": "display_data"
    }
   ],
   "source": [
    "#plot the accuracy over the training and test set\n",
    "results[[\"accuracy\",'val_accuracy']].plot()\n",
    "plt.title('Model Accuracy Plot')\n",
    "plt.xlabel('Epochs')\n",
    "plt.ylabel('Accuracy')\n",
    "plt.grid()\n",
    "plt.show()"
   ]
  },
  {
   "cell_type": "code",
   "execution_count": 82,
   "metadata": {
    "collapsed": false
   },
   "outputs": [
    {
     "data": {
      "image/png": "[encoded data removed]",
      "text/plain": [
       "<Figure size 432x288 with 1 Axes>"
      ]
     },
     "metadata": {
      "needs_background": "light"
     },
     "output_type": "display_data"
    }
   ],
   "source": [
    "#plot the loss over the training and test set\n",
    "results[['loss','val_loss']].plot()\n",
    "plt.title('Model Loss Plot')\n",
    "plt.xlabel('Epochs')\n",
    "plt.ylabel('Loss')\n",
    "plt.grid()\n",
    "plt.show()"
   ]
  },
  {
   "cell_type": "markdown",
   "metadata": {},
   "source": [
    "#Evaluate Test"
   ]
  },
  {
   "cell_type": "code",
   "execution_count": 83,
   "metadata": {
    "collapsed": false,
    "scrolled": true
   },
   "outputs": [
    {
     "name": "stdout",
     "output_type": "stream",
     "text": [
      "6/6 [==============================] - 0s 15ms/step - loss: 0.2541 - accuracy: 0.8841\n"
     ]
    },
    {
     "data": {
      "text/plain": [
       "[0.25409966707229614, 0.8841463327407837]"
      ]
     },
     "execution_count": 83,
     "metadata": {},
     "output_type": "execute_result"
    }
   ],
   "source": [
    "model.evaluate(X_test, y_test)"
   ]
  },
  {
   "cell_type": "code",
   "execution_count": 84,
   "metadata": {
    "collapsed": true
   },
   "outputs": [],
   "source": [
    "y_pred= model.predict(X_test)"
   ]
  },
  {
   "cell_type": "code",
   "execution_count": 85,
   "metadata": {
    "collapsed": false,
    "scrolled": true
   },
   "outputs": [
    {
     "name": "stdout",
     "output_type": "stream",
     "text": [
      "[0 1 0 1 1 0 1 0 1 1 1 0 1 0 1 1 1 1 0 1 0 0 1 1 0 1 0 1 1 0 0 0 1 0 1 0 1\n",
      " 1 0 0 1 1 0 1 1 1 1 1 0 1 1 0 0 1 0 1 1 0 0 1 1 0 1 0 1 1 1 0 0 0 1 0 0 0\n",
      " 1 0 1 0 0 1 0 0 0 0 1 1 1 0 1 0 1 1 1 1 0 1 1 1 0 0 0 1 1 1 1 0 1 0 1 1 0\n",
      " 0 0 1 1 1 0 0 0 1 1 1 1 1 0 0 0 0 0 0 0 0 0 0 1 0 1 0 0 0 0 1 1 0 1 0 1 0\n",
      " 1 0 0 1 0 1 1 0 1 0 0 1 0 1 0 1]\n"
     ]
    }
   ],
   "source": [
    "print(y_test)"
   ]
  },
  {
   "cell_type": "code",
   "execution_count": 86,
   "metadata": {
    "collapsed": true
   },
   "outputs": [
    {
     "name": "stdout",
     "output_type": "stream",
     "text": [
      "[[7.70899355e-02]\n",
      " [9.99971986e-01]\n",
      " [1.51404329e-05]\n",
      " [3.13991129e-01]\n",
      " [9.98507142e-01]\n",
      " [1.43305333e-05]\n",
      " [9.99700427e-01]\n",
      " [3.64768505e-03]\n",
      " [9.99934256e-01]\n",
      " [9.97110188e-01]\n",
      " [9.99987364e-01]\n",
      " [7.19636679e-04]\n",
      " [2.25571692e-01]\n",
      " [1.73686326e-01]\n",
      " [8.71706486e-01]\n",
      " [9.99172866e-01]\n",
      " [9.99953270e-01]\n",
      " [9.99642491e-01]\n",
      " [3.38379778e-06]\n",
      " [9.98592079e-01]\n",
      " [5.35428524e-04]\n",
      " [2.17598677e-02]\n",
      " [7.98379779e-01]\n",
      " [8.46237838e-01]\n",
      " [4.94800806e-02]\n",
      " [9.99759078e-01]\n",
      " [5.34027815e-04]\n",
      " [5.22339404e-01]\n",
      " [4.41661954e-01]\n",
      " [2.69714815e-06]\n",
      " [2.52294540e-03]\n",
      " [7.63578415e-01]\n",
      " [7.43766487e-01]\n",
      " [8.54656100e-03]\n",
      " [9.54262137e-01]\n",
      " [1.14269584e-01]\n",
      " [9.99945164e-01]\n",
      " [6.46592557e-01]\n",
      " [3.91846895e-03]\n",
      " [1.77949667e-04]\n",
      " [5.63901544e-01]\n",
      " [2.48726547e-01]\n",
      " [8.45146894e-01]\n",
      " [9.08109546e-03]\n",
      " [6.90332413e-01]\n",
      " [3.32472980e-01]\n",
      " [9.98026252e-01]\n",
      " [9.97574270e-01]\n",
      " [1.39795542e-02]\n",
      " [9.58485723e-01]\n",
      " [3.56169105e-01]\n",
      " [4.77111655e-07]\n",
      " [1.63373351e-02]\n",
      " [9.98879373e-01]\n",
      " [6.58819079e-03]\n",
      " [9.90748465e-01]\n",
      " [7.89332688e-01]\n",
      " [5.17272660e-08]\n",
      " [6.63170218e-03]\n",
      " [9.98925090e-01]\n",
      " [7.48331785e-01]\n",
      " [5.86289167e-03]\n",
      " [9.99240160e-01]\n",
      " [7.10818422e-05]\n",
      " [9.38948154e-01]\n",
      " [2.92972863e-01]\n",
      " [9.40421879e-01]\n",
      " [1.20433569e-02]\n",
      " [7.62391984e-02]\n",
      " [1.52623624e-01]\n",
      " [7.44324863e-01]\n",
      " [3.14693153e-02]\n",
      " [8.04980993e-02]\n",
      " [7.35680699e-01]\n",
      " [9.04846549e-01]\n",
      " [7.11351633e-04]\n",
      " [9.99924660e-01]\n",
      " [2.00491548e-02]\n",
      " [5.70715964e-02]\n",
      " [8.36631358e-02]\n",
      " [3.31431627e-04]\n",
      " [1.50024891e-04]\n",
      " [5.00610167e-06]\n",
      " [1.48988820e-05]\n",
      " [1.34470403e-01]\n",
      " [7.66650319e-01]\n",
      " [9.48116660e-01]\n",
      " [1.92186356e-01]\n",
      " [5.88985860e-01]\n",
      " [8.04334879e-04]\n",
      " [5.88756323e-01]\n",
      " [9.99975085e-01]\n",
      " [9.91836846e-01]\n",
      " [9.94717717e-01]\n",
      " [3.60803962e-01]\n",
      " [6.96347833e-01]\n",
      " [8.61285329e-02]\n",
      " [2.76106298e-01]\n",
      " [2.32577324e-04]\n",
      " [1.28500521e-01]\n",
      " [7.29846656e-02]\n",
      " [9.97491777e-01]\n",
      " [9.72022951e-01]\n",
      " [9.99996066e-01]\n",
      " [9.96918082e-01]\n",
      " [5.78352213e-02]\n",
      " [9.57407713e-01]\n",
      " [2.98939943e-02]\n",
      " [9.92620587e-01]\n",
      " [9.99851108e-01]\n",
      " [9.55462456e-04]\n",
      " [7.44640827e-04]\n",
      " [9.06450368e-05]\n",
      " [9.99994993e-01]\n",
      " [9.99733567e-01]\n",
      " [9.99739766e-01]\n",
      " [1.07669830e-03]\n",
      " [3.86144429e-01]\n",
      " [1.65325880e-01]\n",
      " [7.81209826e-01]\n",
      " [9.88352656e-01]\n",
      " [9.99992967e-01]\n",
      " [1.92413390e-01]\n",
      " [9.45832729e-01]\n",
      " [1.52355701e-01]\n",
      " [9.55939293e-04]\n",
      " [1.26784444e-02]\n",
      " [2.84382701e-03]\n",
      " [1.48037076e-03]\n",
      " [8.30441713e-03]\n",
      " [1.78939104e-03]\n",
      " [2.92003155e-04]\n",
      " [9.23646212e-01]\n",
      " [1.04076862e-02]\n",
      " [9.96891618e-01]\n",
      " [8.54725540e-02]\n",
      " [9.99948025e-01]\n",
      " [7.08689094e-02]\n",
      " [2.90453434e-04]\n",
      " [5.30873376e-06]\n",
      " [1.21191442e-02]\n",
      " [9.99772966e-01]\n",
      " [8.22586596e-01]\n",
      " [4.34201956e-03]\n",
      " [9.37613010e-01]\n",
      " [1.44548595e-01]\n",
      " [9.99957919e-01]\n",
      " [2.48694420e-03]\n",
      " [4.31176931e-01]\n",
      " [2.73533933e-05]\n",
      " [2.12420523e-02]\n",
      " [9.99926686e-01]\n",
      " [3.51548195e-04]\n",
      " [9.99782264e-01]\n",
      " [9.93517816e-01]\n",
      " [3.48811805e-01]\n",
      " [9.95643675e-01]\n",
      " [7.05951452e-03]\n",
      " [3.66131499e-05]\n",
      " [9.95625973e-01]\n",
      " [1.15352869e-03]\n",
      " [9.99897122e-01]\n",
      " [4.37012315e-03]\n",
      " [4.72633123e-01]]\n"
     ]
    }
   ],
   "source": [
    "print(y_pred)"
   ]
  },
  {
   "cell_type": "code",
   "execution_count": 87,
   "metadata": {
    "collapsed": false,
    "scrolled": true
   },
   "outputs": [
    {
     "data": {
      "text/plain": [
       "(164,)"
      ]
     },
     "execution_count": 87,
     "metadata": {},
     "output_type": "execute_result"
    }
   ],
   "source": [
    "y_test.shape"
   ]
  },
  {
   "cell_type": "code",
   "execution_count": 88,
   "metadata": {
    "collapsed": false
   },
   "outputs": [
    {
     "data": {
      "text/plain": [
       "(164,)"
      ]
     },
     "execution_count": 88,
     "metadata": {},
     "output_type": "execute_result"
    }
   ],
   "source": [
    "y_pred = y_pred.squeeze()\n",
    "y_pred = np.round(y_pred)\n",
    "y_pred.shape"
   ]
  },
  {
   "cell_type": "code",
   "execution_count": 89,
   "metadata": {
    "collapsed": false
   },
   "outputs": [
    {
     "name": "stdout",
     "output_type": "stream",
     "text": [
      "[[76  4]\n",
      " [15 69]]\n"
     ]
    }
   ],
   "source": [
    "from sklearn.metrics import confusion_matrix\n",
    "\n",
    "#Generate the confusion matrix\n",
    "cf_matrix = confusion_matrix(y_test, y_pred)\n",
    "\n",
    "print(cf_matrix)"
   ]
  },
  {
   "cell_type": "code",
   "execution_count": 90,
   "metadata": {
    "collapsed": false
   },
   "outputs": [
    {
     "data": {
      "image/png": "[encoded data removed]",
      "text/plain": [
       "<Figure size 432x288 with 2 Axes>"
      ]
     },
     "metadata": {
      "needs_background": "light"
     },
     "output_type": "display_data"
    }
   ],
   "source": [
    "import seaborn as sns\n",
    "\n",
    "ax = sns.heatmap(cf_matrix, annot=True, cmap='Blues')\n",
    "\n",
    "ax.set_title('Seaborn Confusion Matrix with labels\\n\\n');\n",
    "ax.set_xlabel('\\nPredicted Values')\n",
    "ax.set_ylabel('Actual Values ');\n",
    "\n",
    "## Ticket labels - List must be in alphabetical order\n",
    "ax.xaxis.set_ticklabels(['False','True'])\n",
    "ax.yaxis.set_ticklabels(['False','True'])\n",
    "\n",
    "## Display the visualization of the Confusion Matrix.\n",
    "plt.show()"
   ]
  },
  {
   "cell_type": "code",
   "execution_count": 91,
   "metadata": {
    "collapsed": false
   },
   "outputs": [
    {
     "name": "stdout",
     "output_type": "stream",
     "text": [
      "(164, 75, 75, 3)\n"
     ]
    }
   ],
   "source": [
    "print(X_test.shape)"
   ]
  },
  {
   "cell_type": "code",
   "execution_count": 92,
   "metadata": {
    "collapsed": false
   },
   "outputs": [
    {
     "name": "stdout",
     "output_type": "stream",
     "text": [
      "(1, 75, 75, 3)\n"
     ]
    }
   ],
   "source": [
    "img1 = X_train[0,:,:,:]\n",
    "img1 = img1.reshape(-1,75,75,3)\n",
    "model.predict(img1)\n",
    "print(img1.shape)"
   ]
  },
  {
   "cell_type": "code",
   "execution_count": 93,
   "metadata": {
    "collapsed": false
   },
   "outputs": [],
   "source": [
    "def prediction(id, model):\n",
    "    img1 = X_train[id,:,:,:]\n",
    "    img1 = img1.reshape(-1,75,75,3)\n",
    "    return model.predict(img1)[0][0]"
   ]
  },
  {
   "cell_type": "code",
   "execution_count": 135,
   "metadata": {
    "collapsed": false
   },
   "outputs": [
    {
     "name": "stdout",
     "output_type": "stream",
     "text": [
      "0.050052524\n",
      "0.00043043494\n",
      "0.005086869\n",
      "0.99270904\n"
     ]
    }
   ],
   "source": [
    "print(prediction(1, model))\n",
    "print(prediction(2, model))\n",
    "print(prediction(0, model))\n",
    "print(prediction(11, model))\n"
   ]
  },
  {
   "cell_type": "code",
   "execution_count": 124,
   "metadata": {
    "collapsed": false
   },
   "outputs": [
    {
     "name": "stdout",
     "output_type": "stream",
     "text": [
      "0.005086869 0\n",
      "0.050052524 0\n",
      "0.00043043494 0\n",
      "0.009451121 0\n",
      "0.99533397 1\n",
      "0.9373043 1\n",
      "0.9486679 1\n",
      "0.10615933 0\n",
      "0.9984307 1\n",
      "0.0008431971 0\n"
     ]
    }
   ],
   "source": [
    "for i in range(10):\n",
    "    print(prediction(i, model), round(prediction(i, model)))"
   ]
  },
  {
   "cell_type": "code",
   "execution_count": 125,
   "metadata": {
    "collapsed": false,
    "scrolled": false
   },
   "outputs": [
    {
     "data": {
      "text/plain": [
       "array([[0.00508687]], dtype=float32)"
      ]
     },
     "execution_count": 125,
     "metadata": {},
     "output_type": "execute_result"
    }
   ],
   "source": [
    "model.predict(img1)"
   ]
  },
  {
   "cell_type": "code",
   "execution_count": 126,
   "metadata": {
    "collapsed": false
   },
   "outputs": [
    {
     "name": "stdout",
     "output_type": "stream",
     "text": [
      "Saved model to disk\n"
     ]
    }
   ],
   "source": [
    "# Saving the model for Future Inferences\n",
    "\n",
    "model_json = model.to_json()\n",
    "with open(\"/home/apprenant/PycharmProjects/ClimateProject---E3/model/cnn.json\", \"w\") as json_file:\n",
    "    json_file.write(model_json)\n",
    "# serialize weights to HDF5\n",
    "model.save_weights(\"/home/apprenant/PycharmProjects/ClimateProject---E3/model/cnn.h5\")\n",
    "print(\"Saved model to disk\")"
   ]
  },
  {
   "cell_type": "code",
   "execution_count": 127,
   "metadata": {
    "collapsed": false
   },
   "outputs": [],
   "source": [
    "import tensorflow as tf\n",
    "from tensorflow.keras.models import model_from_json, load_model\n",
    "import tensorflow.keras.backend as K\n",
    "import numpy as np\n",
    "from imageio import imread, imsave\n",
    "from PIL import Image\n",
    "import re\n",
    "import pandas\n",
    "import sys\n",
    "import os"
   ]
  },
  {
   "cell_type": "code",
   "execution_count": 166,
   "metadata": {
    "collapsed": true
   },
   "outputs": [],
   "source": [
    "def init():\n",
    "    json_file = open('/home/apprenant/PycharmProjects/ClimateProject---E3/model/cnn.json', 'r')\n",
    "    loaded_model_json = json_file.read()\n",
    "    json_file.close()\n",
    "    loaded_model_json = model_from_json(loaded_model_json)\n",
    "    #load weights into new model\n",
    "    loaded_model_json.load_weights(\"/home/apprenant/PycharmProjects/ClimateProject---E3/model/cnn.h5\")\n",
    "    print(\"Loaded Model from disk\")\n",
    "\n",
    "    #compile and evaluate loaded model\n",
    "    loaded_model_json.compile(loss='binary_crossentropy',optimizer='adam',metrics=['accuracy'])\n",
    "    return loaded_model_json"
   ]
  },
  {
   "cell_type": "code",
   "execution_count": 222,
   "metadata": {
    "collapsed": false
   },
   "outputs": [],
   "source": [
    "def preprocessing_train(id):\n",
    "    x = X_train[id,:,:,:]\n",
    "    x = np.resize(x,(1,75,75,3))\n",
    "    x = np.array(x) \n",
    "    return x\n",
    "\n",
    "xtrain = preprocessing_train(6)   "
   ]
  },
  {
   "cell_type": "code",
   "execution_count": 223,
   "metadata": {
    "collapsed": false
   },
   "outputs": [],
   "source": [
    "def preprocessing_test(path):\n",
    "    x = Image.open(path)\n",
    "    x = np.resize(x,(1,75,75,3))\n",
    "    x = np.array(x) \n",
    "    x = (x - x.mean())/255.\n",
    "    return x\n",
    "\n",
    "xtest=preprocessing_test('/home/apprenant/Downloads/6.png')   "
   ]
  },
  {
   "cell_type": "code",
   "execution_count": 225,
   "metadata": {
    "collapsed": true
   },
   "outputs": [],
   "source": [
    "from PIL import Image \n",
    "import numpy as np \n",
    "    \n",
    "def predict(x):\n",
    "    model=init()\n",
    "    out = model.predict(x)[0][0]\n",
    "    return round(out),  out"
   ]
  },
  {
   "cell_type": "code",
   "execution_count": 226,
   "metadata": {
    "collapsed": false
   },
   "outputs": [
    {
     "data": {
      "text/plain": [
       "(75, 75, 3)"
      ]
     },
     "execution_count": 226,
     "metadata": {},
     "output_type": "execute_result"
    }
   ],
   "source": [
    "X_train[0,:,:,:].shape"
   ]
  },
  {
   "cell_type": "code",
   "execution_count": 227,
   "metadata": {
    "collapsed": false,
    "scrolled": false
   },
   "outputs": [
    {
     "name": "stdout",
     "output_type": "stream",
     "text": [
      "Loaded Model from disk\n"
     ]
    },
    {
     "data": {
      "text/plain": [
       "(1, 0.9486679)"
      ]
     },
     "execution_count": 227,
     "metadata": {},
     "output_type": "execute_result"
    }
   ],
   "source": [
    "predict(xtrain)"
   ]
  },
  {
   "cell_type": "code",
   "execution_count": 228,
   "metadata": {
    "collapsed": false,
    "scrolled": false
   },
   "outputs": [
    {
     "name": "stdout",
     "output_type": "stream",
     "text": [
      "Loaded Model from disk\n"
     ]
    },
    {
     "data": {
      "text/plain": [
       "(1, 0.8959032)"
      ]
     },
     "execution_count": 228,
     "metadata": {},
     "output_type": "execute_result"
    }
   ],
   "source": [
    "predict(xtest)"
   ]
  },
  {
   "cell_type": "code",
   "execution_count": null,
   "metadata": {
    "collapsed": true
   },
   "outputs": [],
   "source": []
  }
 ],
 "metadata": {
  "anaconda-cloud": {},
  "kernelspec": {
   "display_name": "Python 3",
   "language": "python",
   "name": "python3"
  },
  "language_info": {
   "codemirror_mode": {
    "name": "ipython",
    "version": 3
   },
   "file_extension": ".py",
   "mimetype": "text/x-python",
   "name": "python",
   "nbconvert_exporter": "python",
   "pygments_lexer": "ipython3",
   "version": "3.8.10"
  }
 },
 "nbformat": 4,
 "nbformat_minor": 1
}
