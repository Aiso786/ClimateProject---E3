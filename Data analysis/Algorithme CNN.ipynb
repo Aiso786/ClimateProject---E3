{
 "cells": [
  {
   "cell_type": "code",
   "execution_count": 1,
   "metadata": {
    "collapsed": false
   },
   "outputs": [
    {
     "name": "stdout",
     "output_type": "stream",
     "text": [
      "Requirement already satisfied: PyYAML in /home/apprenant/PycharmProjects/ClimateProject---E3/env/lib/python3.8/site-packages (6.0)\r\n"
     ]
    }
   ],
   "source": [
    "import pandas as pd\n",
    "import opendatasets as od\n",
    "from tensorflow.keras.callbacks import EarlyStopping\n",
    "import numpy as np\n",
    "import matplotlib.pylab as plt\n",
    "from sklearn.model_selection import train_test_split\n",
    "from tensorflow.keras.preprocessing.image import ImageDataGenerator\n",
    "from tensorflow.keras import layers, models, optimizers\n",
    "from tensorflow.keras import backend as K\n",
    "from tensorflow.keras.models import model_from_yaml\n",
    "!pip3 install PyYAML"
   ]
  },
  {
   "cell_type": "code",
   "execution_count": 2,
   "metadata": {
    "collapsed": false
   },
   "outputs": [
    {
     "name": "stdout",
     "output_type": "stream",
     "text": [
      "Skipping, found downloaded files in \"./ship-and-iceberg-images\" (use force=True to force download)\n"
     ]
    }
   ],
   "source": [
    "od.download(\"https://www.kaggle.com/saurabhbagchi/ship-and-iceberg-images\")"
   ]
  },
  {
   "cell_type": "code",
   "execution_count": 3,
   "metadata": {
    "collapsed": false
   },
   "outputs": [],
   "source": [
    "import os\n",
    "for dirname, _, filenames in os.walk('/home/apprenant/PycharmProjects/ClimateProject---E3/ship-and-iceberg-images/input_data.npz'):\n",
    "    for filename in filenames:\n",
    "        print(os.path.join(dirname, filename))"
   ]
  },
  {
   "cell_type": "markdown",
   "metadata": {},
   "source": [
    " # Load the data"
   ]
  },
  {
   "cell_type": "code",
   "execution_count": 4,
   "metadata": {
    "collapsed": false,
    "scrolled": true
   },
   "outputs": [],
   "source": [
    "npz = np.load('/home/apprenant/PycharmProjects/ClimateProject---E3/Data analysis/ship-and-iceberg-images/input_data.npz')\n",
    "\n",
    "x = npz['X_train']\n",
    "y = npz['Y_train']\n",
    "del npz"
   ]
  },
  {
   "cell_type": "code",
   "execution_count": 5,
   "metadata": {
    "collapsed": false
   },
   "outputs": [
    {
     "name": "stdout",
     "output_type": "stream",
     "text": [
      "<class 'numpy.ndarray'>\n"
     ]
    }
   ],
   "source": [
    "print(type(x))"
   ]
  },
  {
   "cell_type": "code",
   "execution_count": 6,
   "metadata": {
    "collapsed": false,
    "scrolled": false
   },
   "outputs": [
    {
     "name": "stdout",
     "output_type": "stream",
     "text": [
      "shape of picture: (4113, 75, 75, 3)\n",
      "shape of picture: (4113,)\n"
     ]
    }
   ],
   "source": [
    "print('shape of picture: {}'.format(x.shape))\n",
    "print('shape of picture: {}'.format(y.shape))"
   ]
  },
  {
   "cell_type": "code",
   "execution_count": 7,
   "metadata": {
    "collapsed": false
   },
   "outputs": [],
   "source": [
    "# First split the data in two sets, 80% for training, 20% for Val/Test)\n",
    "X_train, X_valtest, y_train, y_valtest = train_test_split(x,y, test_size=0.2, random_state=1, stratify=y)\n",
    "X_val = X_train\n",
    "y_val = y_train\n",
    "# Second split the 20% into validation and test sets\n",
    "X_test, X_val, y_test, y_val = train_test_split(X_valtest, y_valtest, test_size=0.8, random_state=1, stratify=y_valtest)"
   ]
  },
  {
   "cell_type": "code",
   "execution_count": 8,
   "metadata": {
    "collapsed": false
   },
   "outputs": [
    {
     "name": "stdout",
     "output_type": "stream",
     "text": [
      "(3290, 75, 75, 3)\n",
      "(659, 75, 75, 3)\n",
      "(164, 75, 75, 3)\n",
      "(3290,)\n",
      "(659,)\n",
      "(164,)\n"
     ]
    }
   ],
   "source": [
    "print(np.array(X_train).shape)\n",
    "print(np.array(X_val).shape)\n",
    "print(np.array(X_test).shape)\n",
    "print(np.array(y_train).shape)\n",
    "print(np.array(y_val).shape)\n",
    "print(np.array(y_test).shape)"
   ]
  },
  {
   "cell_type": "code",
   "execution_count": 9,
   "metadata": {
    "collapsed": false
   },
   "outputs": [
    {
     "name": "stdout",
     "output_type": "stream",
     "text": [
      "This is: Iceberg\n"
     ]
    }
   ],
   "source": [
    "ix = 100#0-4112\n",
    "labels = ['Ship','Iceberg']  #0 is no iceberg(ship) and 1 is iceberg\n",
    "print ('This is:',labels[int(y_train[ix])])"
   ]
  },
  {
   "cell_type": "code",
   "execution_count": 10,
   "metadata": {
    "collapsed": false
   },
   "outputs": [
    {
     "data": {
      "text/plain": [
       "'channels_last'"
      ]
     },
     "execution_count": 10,
     "metadata": {},
     "output_type": "execute_result"
    }
   ],
   "source": [
    "K.image_data_format()"
   ]
  },
  {
   "cell_type": "code",
   "execution_count": 11,
   "metadata": {
    "collapsed": true
   },
   "outputs": [],
   "source": [
    "img_width, img_height = 75, 75\n",
    "nb_train_samples = len(X_train)\n",
    "nb_validation_samples = len(X_val)\n",
    "epochs = 50\n",
    "batch_size = 32"
   ]
  },
  {
   "cell_type": "code",
   "execution_count": 12,
   "metadata": {
    "collapsed": false,
    "scrolled": true
   },
   "outputs": [
    {
     "name": "stderr",
     "output_type": "stream",
     "text": [
      "/home/apprenant/.local/lib/python3.8/site-packages/tensorflow/python/keras/optimizer_v2/optimizer_v2.py:374: UserWarning: The `lr` argument is deprecated, use `learning_rate` instead.\n",
      "  warnings.warn(\n"
     ]
    }
   ],
   "source": [
    "model = models.Sequential()\n",
    "\n",
    "model.add(layers.Conv2D(32, (3, 3), input_shape=(img_width, img_height, 3)))\n",
    "model.add(layers.Activation(\"relu\"))\n",
    "model.add(layers.MaxPooling2D((2, 2)))\n",
    "model.add(layers.Dropout(0.2))\n",
    "\n",
    "model.add(layers.Conv2D(64, (3, 3)))\n",
    "model.add(layers.Activation(\"relu\"))\n",
    "model.add(layers.MaxPooling2D((2, 2)))\n",
    "model.add(layers.Dropout(0.2))\n",
    "\n",
    "model.add(layers.Conv2D(64, (3, 3)))\n",
    "model.add(layers.Activation(\"relu\"))\n",
    "model.add(layers.MaxPooling2D((2, 2)))\n",
    "model.add(layers.Dropout(0.2))\n",
    "\n",
    "model.add(layers.Conv2D(64, (3, 3)))\n",
    "model.add(layers.Activation(\"relu\"))\n",
    "model.add(layers.MaxPooling2D((2, 2)))\n",
    "model.add(layers.Dropout(0.2))\n",
    "\n",
    "model.add(layers.Flatten())\n",
    "model.add(layers.Dense(64))\n",
    "model.add(layers.Activation(\"relu\"))\n",
    "model.add(layers.Dropout(0.2))\n",
    "\n",
    "model.add(layers.Dense(64))\n",
    "model.add(layers.Activation(\"relu\"))\n",
    "model.add(layers.Dropout(0.2))\n",
    "\n",
    "model.add(layers.Dense(1))\n",
    "model.add(layers.Activation(\"sigmoid\"))\n",
    "\n",
    "model.compile(\n",
    "    loss='binary_crossentropy',\n",
    "    optimizer=optimizers.Adam(lr=0.001),\n",
    "    metrics=['accuracy']);\n"
   ]
  },
  {
   "cell_type": "markdown",
   "metadata": {},
   "source": [
    "DATA AUGMENTATION"
   ]
  },
  {
   "cell_type": "code",
   "execution_count": 13,
   "metadata": {
    "collapsed": true
   },
   "outputs": [],
   "source": [
    "train_datagen = ImageDataGenerator(rescale=1. / 255, horizontal_flip=True, rotation_range=30)\n",
    "valtest_datagen = ImageDataGenerator(rescale=1. / 255)"
   ]
  },
  {
   "cell_type": "code",
   "execution_count": 14,
   "metadata": {
    "collapsed": false
   },
   "outputs": [],
   "source": [
    "train_generator = train_datagen.flow(np.array(X_train), y_train, batch_size=batch_size)\n",
    "validation_generator = valtest_datagen.flow(np.array(X_val), y_val, batch_size=batch_size)\n",
    "test_generator = valtest_datagen.flow(np.array(X_test), y_test, batch_size=batch_size)"
   ]
  },
  {
   "cell_type": "code",
   "execution_count": 15,
   "metadata": {
    "collapsed": false
   },
   "outputs": [],
   "source": [
    "# Create early stopping (once our model stops improving, stop training)\n",
    "early_stopping = EarlyStopping(monitor=\"val_accuracy\", patience=6) # stops after 6 rounds of no improvements"
   ]
  },
  {
   "cell_type": "code",
   "execution_count": 16,
   "metadata": {
    "collapsed": false,
    "scrolled": true
   },
   "outputs": [
    {
     "name": "stdout",
     "output_type": "stream",
     "text": [
      "Epoch 1/50\n",
      "103/103 [==============================] - 9s 80ms/step - loss: 0.6174 - accuracy: 0.6523 - val_loss: 0.4965 - val_accuracy: 0.7876\n",
      "Epoch 2/50\n",
      "103/103 [==============================] - 8s 79ms/step - loss: 0.4268 - accuracy: 0.8109 - val_loss: 0.4194 - val_accuracy: 0.7997\n",
      "Epoch 3/50\n",
      "103/103 [==============================] - 8s 78ms/step - loss: 0.3351 - accuracy: 0.8553 - val_loss: 0.2894 - val_accuracy: 0.8725\n",
      "Epoch 4/50\n",
      "103/103 [==============================] - 8s 78ms/step - loss: 0.2960 - accuracy: 0.8657 - val_loss: 0.2712 - val_accuracy: 0.8801\n",
      "Epoch 5/50\n",
      "103/103 [==============================] - 8s 79ms/step - loss: 0.3023 - accuracy: 0.8626 - val_loss: 0.3127 - val_accuracy: 0.8604\n",
      "Epoch 6/50\n",
      "103/103 [==============================] - 8s 78ms/step - loss: 0.2629 - accuracy: 0.8809 - val_loss: 0.2556 - val_accuracy: 0.8923\n",
      "Epoch 7/50\n",
      "103/103 [==============================] - 8s 79ms/step - loss: 0.2433 - accuracy: 0.8933 - val_loss: 0.2390 - val_accuracy: 0.8938\n",
      "Epoch 8/50\n",
      "103/103 [==============================] - 8s 79ms/step - loss: 0.2402 - accuracy: 0.8979 - val_loss: 0.2291 - val_accuracy: 0.8923\n",
      "Epoch 9/50\n",
      "103/103 [==============================] - 8s 79ms/step - loss: 0.2275 - accuracy: 0.9006 - val_loss: 0.2727 - val_accuracy: 0.8877\n",
      "Epoch 10/50\n",
      "103/103 [==============================] - 8s 79ms/step - loss: 0.2272 - accuracy: 0.9052 - val_loss: 0.2330 - val_accuracy: 0.8862\n",
      "Epoch 11/50\n",
      "103/103 [==============================] - 8s 79ms/step - loss: 0.2046 - accuracy: 0.9152 - val_loss: 0.2816 - val_accuracy: 0.8953\n",
      "Epoch 12/50\n",
      "103/103 [==============================] - 8s 78ms/step - loss: 0.1926 - accuracy: 0.9231 - val_loss: 0.2255 - val_accuracy: 0.9090\n",
      "Epoch 13/50\n",
      "103/103 [==============================] - 8s 79ms/step - loss: 0.1778 - accuracy: 0.9252 - val_loss: 0.2193 - val_accuracy: 0.9074\n",
      "Epoch 14/50\n",
      "103/103 [==============================] - 8s 79ms/step - loss: 0.1847 - accuracy: 0.9277 - val_loss: 0.2298 - val_accuracy: 0.9120\n",
      "Epoch 15/50\n",
      "103/103 [==============================] - 8s 79ms/step - loss: 0.1770 - accuracy: 0.9240 - val_loss: 0.2189 - val_accuracy: 0.9150\n",
      "Epoch 16/50\n",
      "103/103 [==============================] - 8s 79ms/step - loss: 0.1595 - accuracy: 0.9380 - val_loss: 0.2537 - val_accuracy: 0.9105\n",
      "Epoch 17/50\n",
      "103/103 [==============================] - 8s 78ms/step - loss: 0.1660 - accuracy: 0.9316 - val_loss: 0.2233 - val_accuracy: 0.9059\n",
      "Epoch 18/50\n",
      "103/103 [==============================] - 8s 79ms/step - loss: 0.1459 - accuracy: 0.9416 - val_loss: 0.2471 - val_accuracy: 0.9105\n",
      "Epoch 19/50\n",
      "103/103 [==============================] - 8s 79ms/step - loss: 0.1318 - accuracy: 0.9502 - val_loss: 0.2207 - val_accuracy: 0.9120\n",
      "Epoch 20/50\n",
      "103/103 [==============================] - 8s 79ms/step - loss: 0.1359 - accuracy: 0.9477 - val_loss: 0.2416 - val_accuracy: 0.9165\n",
      "Epoch 21/50\n",
      "103/103 [==============================] - 8s 79ms/step - loss: 0.1255 - accuracy: 0.9502 - val_loss: 0.2290 - val_accuracy: 0.9181\n",
      "Epoch 22/50\n",
      "103/103 [==============================] - 8s 79ms/step - loss: 0.1234 - accuracy: 0.9544 - val_loss: 0.2471 - val_accuracy: 0.9090\n",
      "Epoch 23/50\n",
      "103/103 [==============================] - 8s 79ms/step - loss: 0.1109 - accuracy: 0.9568 - val_loss: 0.2508 - val_accuracy: 0.9044\n",
      "Epoch 24/50\n",
      "103/103 [==============================] - 8s 79ms/step - loss: 0.1254 - accuracy: 0.9538 - val_loss: 0.2486 - val_accuracy: 0.9059\n",
      "Epoch 25/50\n",
      "103/103 [==============================] - 8s 80ms/step - loss: 0.1185 - accuracy: 0.9520 - val_loss: 0.3243 - val_accuracy: 0.9074\n",
      "Epoch 26/50\n",
      "103/103 [==============================] - 8s 78ms/step - loss: 0.1011 - accuracy: 0.9620 - val_loss: 0.2986 - val_accuracy: 0.9029\n",
      "Epoch 27/50\n",
      "103/103 [==============================] - 8s 78ms/step - loss: 0.0943 - accuracy: 0.9614 - val_loss: 0.2611 - val_accuracy: 0.9120\n"
     ]
    }
   ],
   "source": [
    "history = model.fit(\n",
    "    X_train, y_train, \n",
    "    batch_size,\n",
    "    epochs=epochs,\n",
    "    validation_data=(X_val, y_val),\n",
    "    callbacks=early_stopping,\n",
    ");\n",
    "\n",
    "#model.save_weights('weights.h5')"
   ]
  },
  {
   "cell_type": "markdown",
   "metadata": {},
   "source": [
    "# RUN CNN"
   ]
  },
  {
   "cell_type": "code",
   "execution_count": 17,
   "metadata": {
    "collapsed": false
   },
   "outputs": [
    {
     "data": {
      "image/png": "[encoded data removed]",
      "text/plain": [
       "<Figure size 432x288 with 1 Axes>"
      ]
     },
     "metadata": {
      "needs_background": "light"
     },
     "output_type": "display_data"
    },
    {
     "data": {
      "image/png": "[encoded data removed]",
      "text/plain": [
       "<Figure size 432x288 with 1 Axes>"
      ]
     },
     "metadata": {
      "needs_background": "light"
     },
     "output_type": "display_data"
    }
   ],
   "source": [
    "acc = history.history['accuracy']\n",
    "val_acc = history.history['val_accuracy']\n",
    "loss = history.history['loss']\n",
    "val_loss = history.history['val_loss']\n",
    "epochs = range(1, len(acc) + 1)\n",
    "plt.plot(epochs, acc, 'blue', label='Training acc')\n",
    "plt.plot(epochs, val_acc, 'red', label='Validation acc')\n",
    "plt.title('Training and validation accuracy')\n",
    "plt.legend()\n",
    "plt.figure()\n",
    "plt.plot(epochs, loss, 'blue', label='Training loss')\n",
    "plt.plot(epochs, val_loss, 'red', label='Validation loss')\n",
    "plt.title('Training and validation loss')\n",
    "plt.legend()\n",
    "plt.show()"
   ]
  },
  {
   "cell_type": "markdown",
   "metadata": {},
   "source": [
    "# ÉVALUATION"
   ]
  },
  {
   "cell_type": "code",
   "execution_count": 18,
   "metadata": {
    "collapsed": false
   },
   "outputs": [
    {
     "name": "stdout",
     "output_type": "stream",
     "text": [
      "{'loss': [0.6174255013465881, 0.42675620317459106, 0.3350861370563507, 0.29598531126976013, 0.30228739976882935, 0.26288488507270813, 0.24329861998558044, 0.24017395079135895, 0.22751912474632263, 0.22721274197101593, 0.20455896854400635, 0.19261865317821503, 0.17780102789402008, 0.184665247797966, 0.17702338099479675, 0.1594814658164978, 0.1659688949584961, 0.14594696462154388, 0.131768599152565, 0.13586655259132385, 0.12545588612556458, 0.12343578040599823, 0.11088460683822632, 0.12536294758319855, 0.11852312833070755, 0.10105964541435242, 0.09431850165128708], 'accuracy': [0.6522796154022217, 0.8109422326087952, 0.8553191423416138, 0.8656535148620605, 0.8626139760017395, 0.8808510899543762, 0.8933130502700806, 0.8978723287582397, 0.9006078839302063, 0.9051671624183655, 0.9151975512504578, 0.9231002926826477, 0.92522794008255, 0.9276595711708069, 0.9240121841430664, 0.9379939436912537, 0.9316109418869019, 0.9416413307189941, 0.9501519799232483, 0.9477203488349915, 0.9501519799232483, 0.954407274723053, 0.9568389058113098, 0.9537993669509888, 0.9519757032394409, 0.9620060920715332, 0.961398184299469], 'val_loss': [0.49654868245124817, 0.41936710476875305, 0.28943032026290894, 0.27120620012283325, 0.31270113587379456, 0.2555706799030304, 0.23904302716255188, 0.22910763323307037, 0.2726508677005768, 0.2330034226179123, 0.2816055417060852, 0.2255273163318634, 0.2192945033311844, 0.22983688116073608, 0.21887028217315674, 0.253652423620224, 0.22333486378192902, 0.2471051663160324, 0.22070756554603577, 0.24157015979290009, 0.22904591262340546, 0.24705488979816437, 0.25080493092536926, 0.24861742556095123, 0.3242768943309784, 0.2986338436603546, 0.26108425855636597], 'val_accuracy': [0.7875568866729736, 0.7996965050697327, 0.8725341558456421, 0.8801214098930359, 0.8603945374488831, 0.8922610282897949, 0.8937784433364868, 0.8922610282897949, 0.8877086639404297, 0.886191189289093, 0.8952959179878235, 0.9089529514312744, 0.9074355363845825, 0.911987841129303, 0.9150227904319763, 0.9104704260826111, 0.9059180617332458, 0.9104704260826111, 0.911987841129303, 0.9165402054786682, 0.9180576801300049, 0.9089529514312744, 0.9044005870819092, 0.9059180617332458, 0.9074355363845825, 0.9028831720352173, 0.911987841129303]}\n"
     ]
    }
   ],
   "source": [
    "print(history.history)"
   ]
  },
  {
   "cell_type": "code",
   "execution_count": 19,
   "metadata": {
    "collapsed": false
   },
   "outputs": [
    {
     "data": {
      "text/html": [
       "<div>\n",
       "<style scoped>\n",
       "    .dataframe tbody tr th:only-of-type {\n",
       "        vertical-align: middle;\n",
       "    }\n",
       "\n",
       "    .dataframe tbody tr th {\n",
       "        vertical-align: top;\n",
       "    }\n",
       "\n",
       "    .dataframe thead th {\n",
       "        text-align: right;\n",
       "    }\n",
       "</style>\n",
       "<table border=\"1\" class=\"dataframe\">\n",
       "  <thead>\n",
       "    <tr style=\"text-align: right;\">\n",
       "      <th></th>\n",
       "      <th>loss</th>\n",
       "      <th>accuracy</th>\n",
       "      <th>val_loss</th>\n",
       "      <th>val_accuracy</th>\n",
       "    </tr>\n",
       "  </thead>\n",
       "  <tbody>\n",
       "    <tr>\n",
       "      <th>0</th>\n",
       "      <td>0.617426</td>\n",
       "      <td>0.652280</td>\n",
       "      <td>0.496549</td>\n",
       "      <td>0.787557</td>\n",
       "    </tr>\n",
       "    <tr>\n",
       "      <th>1</th>\n",
       "      <td>0.426756</td>\n",
       "      <td>0.810942</td>\n",
       "      <td>0.419367</td>\n",
       "      <td>0.799697</td>\n",
       "    </tr>\n",
       "    <tr>\n",
       "      <th>2</th>\n",
       "      <td>0.335086</td>\n",
       "      <td>0.855319</td>\n",
       "      <td>0.289430</td>\n",
       "      <td>0.872534</td>\n",
       "    </tr>\n",
       "    <tr>\n",
       "      <th>3</th>\n",
       "      <td>0.295985</td>\n",
       "      <td>0.865654</td>\n",
       "      <td>0.271206</td>\n",
       "      <td>0.880121</td>\n",
       "    </tr>\n",
       "    <tr>\n",
       "      <th>4</th>\n",
       "      <td>0.302287</td>\n",
       "      <td>0.862614</td>\n",
       "      <td>0.312701</td>\n",
       "      <td>0.860395</td>\n",
       "    </tr>\n",
       "  </tbody>\n",
       "</table>\n",
       "</div>"
      ],
      "text/plain": [
       "       loss  accuracy  val_loss  val_accuracy\n",
       "0  0.617426  0.652280  0.496549      0.787557\n",
       "1  0.426756  0.810942  0.419367      0.799697\n",
       "2  0.335086  0.855319  0.289430      0.872534\n",
       "3  0.295985  0.865654  0.271206      0.880121\n",
       "4  0.302287  0.862614  0.312701      0.860395"
      ]
     },
     "execution_count": 19,
     "metadata": {},
     "output_type": "execute_result"
    }
   ],
   "source": [
    "\n",
    "\n",
    "#create a dataframe of the model training history\n",
    "results = pd.DataFrame(history.history)\n",
    "results.head()\n",
    "\n"
   ]
  },
  {
   "cell_type": "code",
   "execution_count": 20,
   "metadata": {
    "collapsed": false
   },
   "outputs": [
    {
     "data": {
      "image/png": "[encoded data removed]",
      "text/plain": [
       "<Figure size 432x288 with 1 Axes>"
      ]
     },
     "metadata": {
      "needs_background": "light"
     },
     "output_type": "display_data"
    }
   ],
   "source": [
    "#plot the accuracy over the training and test set\n",
    "results[[\"accuracy\",'val_accuracy']].plot()\n",
    "plt.title('Model Accuracy Plot')\n",
    "plt.xlabel('Epochs')\n",
    "plt.ylabel('Accuracy')\n",
    "plt.grid()\n",
    "plt.show()"
   ]
  },
  {
   "cell_type": "code",
   "execution_count": 21,
   "metadata": {
    "collapsed": false
   },
   "outputs": [
    {
     "data": {
      "image/png": "[encoded data removed]",
      "text/plain": [
       "<Figure size 432x288 with 1 Axes>"
      ]
     },
     "metadata": {
      "needs_background": "light"
     },
     "output_type": "display_data"
    }
   ],
   "source": [
    "#plot the loss over the training and test set\n",
    "results[['loss','val_loss']].plot()\n",
    "plt.title('Model Loss Plot')\n",
    "plt.xlabel('Epochs')\n",
    "plt.ylabel('Loss')\n",
    "plt.grid()\n",
    "plt.show()"
   ]
  },
  {
   "cell_type": "code",
   "execution_count": 22,
   "metadata": {
    "collapsed": false
   },
   "outputs": [
    {
     "name": "stdout",
     "output_type": "stream",
     "text": [
      "(1, 75, 75, 3)\n"
     ]
    }
   ],
   "source": [
    "img1 = X_train[0,:,:,:]\n",
    "img1 = img1.reshape(-1,75,75,3)\n",
    "model.predict(img1)\n",
    "print(img1.shape)"
   ]
  },
  {
   "cell_type": "code",
   "execution_count": 23,
   "metadata": {
    "collapsed": false
   },
   "outputs": [],
   "source": [
    "def prediction(id, model):\n",
    "    img1 = X_train[id,:,:,:]\n",
    "    img1 = img1.reshape(-1,75,75,3)\n",
    "    return model.predict(img1)[0][0]"
   ]
  },
  {
   "cell_type": "code",
   "execution_count": 24,
   "metadata": {
    "collapsed": false
   },
   "outputs": [
    {
     "name": "stdout",
     "output_type": "stream",
     "text": [
      "0.074880034\n",
      "5.7340065e-05\n",
      "0.0004593134\n",
      "0.99986637\n"
     ]
    }
   ],
   "source": [
    "print(prediction(1, model))\n",
    "print(prediction(2, model))\n",
    "print(prediction(0, model))\n",
    "print(prediction(4, model))\n"
   ]
  },
  {
   "cell_type": "code",
   "execution_count": 25,
   "metadata": {
    "collapsed": false
   },
   "outputs": [
    {
     "name": "stdout",
     "output_type": "stream",
     "text": [
      "0.0004593134 0\n",
      "0.074880034 0\n",
      "5.7340065e-05 0\n",
      "0.00036138296 0\n",
      "0.99986637 1\n",
      "0.9892528 1\n",
      "0.998507 1\n",
      "0.012827575 0\n",
      "0.99989414 1\n",
      "0.00015828013 0\n"
     ]
    }
   ],
   "source": [
    "for i in range(10):\n",
    "    print(prediction(i, model), round(prediction(i, model)))"
   ]
  },
  {
   "cell_type": "code",
   "execution_count": 26,
   "metadata": {
    "collapsed": false,
    "scrolled": false
   },
   "outputs": [
    {
     "data": {
      "text/plain": [
       "array([[0.00045931]], dtype=float32)"
      ]
     },
     "execution_count": 26,
     "metadata": {},
     "output_type": "execute_result"
    }
   ],
   "source": [
    "model.predict(img1)"
   ]
  },
  {
   "cell_type": "code",
   "execution_count": 27,
   "metadata": {
    "collapsed": false
   },
   "outputs": [
    {
     "name": "stdout",
     "output_type": "stream",
     "text": [
      "Saved model to disk\n"
     ]
    }
   ],
   "source": [
    "# serialize model to YAML\n",
    "model_yaml = model.to_yaml()\n",
    "with open(\"/home/apprenant/PycharmProjects/ClimateProject---E3/model/model.yaml\", \"w\") as yaml_file:\n",
    "    yaml_file.write(model_yaml)\n",
    "# serialize weights to HDF5\n",
    "model.save_weights(\"/home/apprenant/PycharmProjects/ClimateProject---E3/model/model.h5\")\n",
    "print(\"Saved model to disk\")"
   ]
  },
  {
   "cell_type": "code",
   "execution_count": 110,
   "metadata": {
    "collapsed": true
   },
   "outputs": [],
   "source": [
    "# Saving the model for Future Inferences\n",
    "\n",
    "model_json = model.to_json()\n",
    "with open(\"/home/apprenant/PycharmProjects/ClimateProject---E3/model/cnn.json\", \"w\") as json_file:\n",
    "    json_file.write(model_json)\n",
    "# serialize weights to HDF5\n",
    "model.save_weights(\"/home/apprenant/PycharmProjects/ClimateProject---E3/model/cnn.h5\")"
   ]
  },
  {
   "cell_type": "code",
   "execution_count": 28,
   "metadata": {
    "collapsed": false
   },
   "outputs": [],
   "source": [
    "import tensorflow as tf\n",
    "from tensorflow.keras.models import model_from_json, load_model\n",
    "import tensorflow.keras.backend as K\n",
    "import numpy as np\n",
    "from imageio import imread, imsave\n",
    "from PIL import Image\n",
    "import re\n",
    "import pandas\n",
    "import sys\n",
    "import os"
   ]
  },
  {
   "cell_type": "code",
   "execution_count": 111,
   "metadata": {
    "collapsed": true
   },
   "outputs": [],
   "source": [
    "def init():\n",
    "    json_file = open('/home/apprenant/PycharmProjects/ClimateProject---E3/model/cnn.json', 'r')\n",
    "    loaded_model_json = json_file.read()\n",
    "    json_file.close()\n",
    "    loaded_model_json = model_from_json(loaded_model_json)\n",
    "    #load weights into new model\n",
    "    loaded_model_json.load_weights(\"/home/apprenant/PycharmProjects/ClimateProject---E3/model/cnn.h5\")\n",
    "    print(\"Loaded Model from disk\")\n",
    "\n",
    "    #compile and evaluate loaded model\n",
    "    loaded_model_json.compile(loss='binary_crossentropy',optimizer='adam',metrics=['accuracy'])\n",
    "    return loaded_model_json"
   ]
  },
  {
   "cell_type": "code",
   "execution_count": 112,
   "metadata": {
    "collapsed": true
   },
   "outputs": [],
   "source": [
    "def predict(path):\n",
    "    x = imread(path)\n",
    "    x = np.resize(x,(1,75,75,3))\n",
    "    model=init()\n",
    "    out = model.predict(x)[0][0]\n",
    "    perf = model.predict(x)[0][0]\n",
    "    return round(out),  perf"
   ]
  },
  {
   "cell_type": "code",
   "execution_count": 113,
   "metadata": {
    "collapsed": true
   },
   "outputs": [],
   "source": [
    "def predicted(id, model):\n",
    "    x = X_train[id,:,:,:]\n",
    "    x = np.resize(x,(1,75,75,3))\n",
    "    out = model.predict(x)[0][0]\n",
    "    return round(out)"
   ]
  },
  {
   "cell_type": "code",
   "execution_count": 104,
   "metadata": {
    "collapsed": false
   },
   "outputs": [
    {
     "data": {
      "text/plain": [
       "(75, 75, 3)"
      ]
     },
     "execution_count": 104,
     "metadata": {},
     "output_type": "execute_result"
    }
   ],
   "source": [
    "X_train[0,:,:,:].shape"
   ]
  },
  {
   "cell_type": "code",
   "execution_count": 105,
   "metadata": {
    "collapsed": false,
    "scrolled": false
   },
   "outputs": [
    {
     "data": {
      "text/plain": [
       "1"
      ]
     },
     "execution_count": 105,
     "metadata": {},
     "output_type": "execute_result"
    }
   ],
   "source": [
    "predicted(5, model)"
   ]
  },
  {
   "cell_type": "code",
   "execution_count": 114,
   "metadata": {
    "collapsed": false,
    "scrolled": true
   },
   "outputs": [
    {
     "name": "stdout",
     "output_type": "stream",
     "text": [
      "Loaded Model from disk\n"
     ]
    },
    {
     "data": {
      "text/plain": [
       "(0, 0.0008367896)"
      ]
     },
     "execution_count": 114,
     "metadata": {},
     "output_type": "execute_result"
    }
   ],
   "source": [
    "predict('/home/apprenant/Downloads/1.png')"
   ]
  },
  {
   "cell_type": "code",
   "execution_count": 115,
   "metadata": {
    "collapsed": false,
    "scrolled": false
   },
   "outputs": [
    {
     "name": "stdout",
     "output_type": "stream",
     "text": [
      "Loaded Model from disk\n"
     ]
    },
    {
     "data": {
      "text/plain": [
       "(0, 0.0008367896)"
      ]
     },
     "execution_count": 115,
     "metadata": {},
     "output_type": "execute_result"
    }
   ],
   "source": [
    "predict('/home/apprenant/Downloads/1.png')"
   ]
  },
  {
   "cell_type": "code",
   "execution_count": 116,
   "metadata": {
    "collapsed": false
   },
   "outputs": [
    {
     "name": "stdout",
     "output_type": "stream",
     "text": [
      "Loaded Model from disk\n"
     ]
    },
    {
     "data": {
      "text/plain": [
       "(1, 1.0)"
      ]
     },
     "execution_count": 116,
     "metadata": {},
     "output_type": "execute_result"
    }
   ],
   "source": [
    "predict('/home/apprenant/Downloads/3.png')"
   ]
  },
  {
   "cell_type": "code",
   "execution_count": 117,
   "metadata": {
    "collapsed": false
   },
   "outputs": [
    {
     "name": "stdout",
     "output_type": "stream",
     "text": [
      "Loaded Model from disk\n"
     ]
    },
    {
     "data": {
      "text/plain": [
       "(1, 0.99999154)"
      ]
     },
     "execution_count": 117,
     "metadata": {},
     "output_type": "execute_result"
    }
   ],
   "source": [
    "predict('/home/apprenant/Downloads/5.png')"
   ]
  },
  {
   "cell_type": "code",
   "execution_count": null,
   "metadata": {
    "collapsed": true
   },
   "outputs": [],
   "source": []
  }
 ],
 "metadata": {
  "anaconda-cloud": {},
  "kernelspec": {
   "display_name": "Python 3",
   "language": "python",
   "name": "python3"
  },
  "language_info": {
   "codemirror_mode": {
    "name": "ipython",
    "version": 3
   },
   "file_extension": ".py",
   "mimetype": "text/x-python",
   "name": "python",
   "nbconvert_exporter": "python",
   "pygments_lexer": "ipython3",
   "version": "3.8.10"
  }
 },
 "nbformat": 4,
 "nbformat_minor": 1
}
