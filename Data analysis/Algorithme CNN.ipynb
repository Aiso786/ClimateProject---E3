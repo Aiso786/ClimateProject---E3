{
 "cells": [
  {
   "cell_type": "code",
   "execution_count": 1,
   "metadata": {
    "collapsed": false
   },
   "outputs": [
    {
     "name": "stdout",
     "output_type": "stream",
     "text": [
      "Requirement already up-to-date: keras-tuner in /home/apprenant/PycharmProjects/ClimateProject---E3/env/lib/python3.8/site-packages (1.1.2)\n",
      "Requirement already satisfied, skipping upgrade: numpy in /home/apprenant/PycharmProjects/ClimateProject---E3/env/lib/python3.8/site-packages (from keras-tuner) (1.22.3)\n",
      "Requirement already satisfied, skipping upgrade: tensorboard in /home/apprenant/PycharmProjects/ClimateProject---E3/env/lib/python3.8/site-packages (from keras-tuner) (2.8.0)\n",
      "Requirement already satisfied, skipping upgrade: kt-legacy in /home/apprenant/PycharmProjects/ClimateProject---E3/env/lib/python3.8/site-packages (from keras-tuner) (1.0.4)\n",
      "Requirement already satisfied, skipping upgrade: ipython in /home/apprenant/PycharmProjects/ClimateProject---E3/env/lib/python3.8/site-packages (from keras-tuner) (8.3.0)\n",
      "Requirement already satisfied, skipping upgrade: packaging in /home/apprenant/PycharmProjects/ClimateProject---E3/env/lib/python3.8/site-packages (from keras-tuner) (21.3)\n",
      "Requirement already satisfied, skipping upgrade: requests in /home/apprenant/PycharmProjects/ClimateProject---E3/env/lib/python3.8/site-packages (from keras-tuner) (2.27.1)\n",
      "Requirement already satisfied, skipping upgrade: protobuf>=3.6.0 in /home/apprenant/PycharmProjects/ClimateProject---E3/env/lib/python3.8/site-packages (from tensorboard->keras-tuner) (3.19.4)\n",
      "Requirement already satisfied, skipping upgrade: absl-py>=0.4 in /home/apprenant/PycharmProjects/ClimateProject---E3/env/lib/python3.8/site-packages (from tensorboard->keras-tuner) (1.0.0)\n",
      "Requirement already satisfied, skipping upgrade: werkzeug>=0.11.15 in /home/apprenant/PycharmProjects/ClimateProject---E3/env/lib/python3.8/site-packages (from tensorboard->keras-tuner) (2.0.3)\n",
      "Requirement already satisfied, skipping upgrade: tensorboard-plugin-wit>=1.6.0 in /home/apprenant/PycharmProjects/ClimateProject---E3/env/lib/python3.8/site-packages (from tensorboard->keras-tuner) (1.8.1)\n",
      "Requirement already satisfied, skipping upgrade: markdown>=2.6.8 in /home/apprenant/PycharmProjects/ClimateProject---E3/env/lib/python3.8/site-packages (from tensorboard->keras-tuner) (3.3.6)\n",
      "Requirement already satisfied, skipping upgrade: setuptools>=41.0.0 in /home/apprenant/PycharmProjects/ClimateProject---E3/env/lib/python3.8/site-packages (from tensorboard->keras-tuner) (44.0.0)\n",
      "Requirement already satisfied, skipping upgrade: grpcio>=1.24.3 in /home/apprenant/PycharmProjects/ClimateProject---E3/env/lib/python3.8/site-packages (from tensorboard->keras-tuner) (1.44.0)\n",
      "Requirement already satisfied, skipping upgrade: google-auth-oauthlib<0.5,>=0.4.1 in /home/apprenant/PycharmProjects/ClimateProject---E3/env/lib/python3.8/site-packages (from tensorboard->keras-tuner) (0.4.6)\n",
      "Requirement already satisfied, skipping upgrade: wheel>=0.26 in /home/apprenant/PycharmProjects/ClimateProject---E3/env/lib/python3.8/site-packages (from tensorboard->keras-tuner) (0.37.1)\n",
      "Requirement already satisfied, skipping upgrade: google-auth<3,>=1.6.3 in /home/apprenant/PycharmProjects/ClimateProject---E3/env/lib/python3.8/site-packages (from tensorboard->keras-tuner) (2.6.0)\n",
      "Requirement already satisfied, skipping upgrade: tensorboard-data-server<0.7.0,>=0.6.0 in /home/apprenant/PycharmProjects/ClimateProject---E3/env/lib/python3.8/site-packages (from tensorboard->keras-tuner) (0.6.1)\n",
      "Requirement already satisfied, skipping upgrade: matplotlib-inline in /home/apprenant/PycharmProjects/ClimateProject---E3/env/lib/python3.8/site-packages (from ipython->keras-tuner) (0.1.3)\n",
      "Requirement already satisfied, skipping upgrade: backcall in /home/apprenant/PycharmProjects/ClimateProject---E3/env/lib/python3.8/site-packages (from ipython->keras-tuner) (0.2.0)\n",
      "Requirement already satisfied, skipping upgrade: jedi>=0.16 in /home/apprenant/PycharmProjects/ClimateProject---E3/env/lib/python3.8/site-packages (from ipython->keras-tuner) (0.18.1)\n",
      "Requirement already satisfied, skipping upgrade: prompt-toolkit!=3.0.0,!=3.0.1,<3.1.0,>=2.0.0 in /home/apprenant/PycharmProjects/ClimateProject---E3/env/lib/python3.8/site-packages (from ipython->keras-tuner) (3.0.29)\n",
      "Requirement already satisfied, skipping upgrade: pygments>=2.4.0 in /home/apprenant/PycharmProjects/ClimateProject---E3/env/lib/python3.8/site-packages (from ipython->keras-tuner) (2.12.0)\n",
      "Requirement already satisfied, skipping upgrade: traitlets>=5 in /home/apprenant/PycharmProjects/ClimateProject---E3/env/lib/python3.8/site-packages (from ipython->keras-tuner) (5.2.0)\n",
      "Requirement already satisfied, skipping upgrade: pickleshare in /home/apprenant/PycharmProjects/ClimateProject---E3/env/lib/python3.8/site-packages (from ipython->keras-tuner) (0.7.5)\n",
      "Requirement already satisfied, skipping upgrade: decorator in /home/apprenant/PycharmProjects/ClimateProject---E3/env/lib/python3.8/site-packages (from ipython->keras-tuner) (5.1.1)\n",
      "Requirement already satisfied, skipping upgrade: stack-data in /home/apprenant/PycharmProjects/ClimateProject---E3/env/lib/python3.8/site-packages (from ipython->keras-tuner) (0.2.0)\n",
      "Requirement already satisfied, skipping upgrade: pexpect>4.3; sys_platform != \"win32\" in /home/apprenant/PycharmProjects/ClimateProject---E3/env/lib/python3.8/site-packages (from ipython->keras-tuner) (4.8.0)\n",
      "Requirement already satisfied, skipping upgrade: pyparsing!=3.0.5,>=2.0.2 in /home/apprenant/PycharmProjects/ClimateProject---E3/env/lib/python3.8/site-packages (from packaging->keras-tuner) (3.0.7)\n",
      "Requirement already satisfied, skipping upgrade: idna<4,>=2.5; python_version >= \"3\" in /home/apprenant/PycharmProjects/ClimateProject---E3/env/lib/python3.8/site-packages (from requests->keras-tuner) (3.3)\n",
      "Requirement already satisfied, skipping upgrade: certifi>=2017.4.17 in /home/apprenant/PycharmProjects/ClimateProject---E3/env/lib/python3.8/site-packages (from requests->keras-tuner) (2021.10.8)\n",
      "Requirement already satisfied, skipping upgrade: charset-normalizer~=2.0.0; python_version >= \"3\" in /home/apprenant/PycharmProjects/ClimateProject---E3/env/lib/python3.8/site-packages (from requests->keras-tuner) (2.0.12)\n",
      "Requirement already satisfied, skipping upgrade: urllib3<1.27,>=1.21.1 in /home/apprenant/PycharmProjects/ClimateProject---E3/env/lib/python3.8/site-packages (from requests->keras-tuner) (1.26.9)\n",
      "Requirement already satisfied, skipping upgrade: six in /home/apprenant/PycharmProjects/ClimateProject---E3/env/lib/python3.8/site-packages (from absl-py>=0.4->tensorboard->keras-tuner) (1.16.0)\n",
      "Requirement already satisfied, skipping upgrade: importlib-metadata>=4.4; python_version < \"3.10\" in /home/apprenant/PycharmProjects/ClimateProject---E3/env/lib/python3.8/site-packages (from markdown>=2.6.8->tensorboard->keras-tuner) (4.10.1)\n",
      "Requirement already satisfied, skipping upgrade: requests-oauthlib>=0.7.0 in /home/apprenant/PycharmProjects/ClimateProject---E3/env/lib/python3.8/site-packages (from google-auth-oauthlib<0.5,>=0.4.1->tensorboard->keras-tuner) (1.3.1)\n",
      "Requirement already satisfied, skipping upgrade: cachetools<6.0,>=2.0.0 in /home/apprenant/PycharmProjects/ClimateProject---E3/env/lib/python3.8/site-packages (from google-auth<3,>=1.6.3->tensorboard->keras-tuner) (5.0.0)\n",
      "Requirement already satisfied, skipping upgrade: rsa<5,>=3.1.4; python_version >= \"3.6\" in /home/apprenant/PycharmProjects/ClimateProject---E3/env/lib/python3.8/site-packages (from google-auth<3,>=1.6.3->tensorboard->keras-tuner) (4.8)\n",
      "Requirement already satisfied, skipping upgrade: pyasn1-modules>=0.2.1 in /home/apprenant/PycharmProjects/ClimateProject---E3/env/lib/python3.8/site-packages (from google-auth<3,>=1.6.3->tensorboard->keras-tuner) (0.2.8)\n",
      "Requirement already satisfied, skipping upgrade: parso<0.9.0,>=0.8.0 in /home/apprenant/PycharmProjects/ClimateProject---E3/env/lib/python3.8/site-packages (from jedi>=0.16->ipython->keras-tuner) (0.8.3)\n",
      "Requirement already satisfied, skipping upgrade: wcwidth in /home/apprenant/PycharmProjects/ClimateProject---E3/env/lib/python3.8/site-packages (from prompt-toolkit!=3.0.0,!=3.0.1,<3.1.0,>=2.0.0->ipython->keras-tuner) (0.2.5)\n",
      "Requirement already satisfied, skipping upgrade: pure-eval in /home/apprenant/PycharmProjects/ClimateProject---E3/env/lib/python3.8/site-packages (from stack-data->ipython->keras-tuner) (0.2.2)\n",
      "Requirement already satisfied, skipping upgrade: asttokens in /home/apprenant/PycharmProjects/ClimateProject---E3/env/lib/python3.8/site-packages (from stack-data->ipython->keras-tuner) (2.0.5)\n",
      "Requirement already satisfied, skipping upgrade: executing in /home/apprenant/PycharmProjects/ClimateProject---E3/env/lib/python3.8/site-packages (from stack-data->ipython->keras-tuner) (0.8.3)\n",
      "Requirement already satisfied, skipping upgrade: ptyprocess>=0.5 in /home/apprenant/PycharmProjects/ClimateProject---E3/env/lib/python3.8/site-packages (from pexpect>4.3; sys_platform != \"win32\"->ipython->keras-tuner) (0.7.0)\n",
      "Requirement already satisfied, skipping upgrade: zipp>=0.5 in /home/apprenant/PycharmProjects/ClimateProject---E3/env/lib/python3.8/site-packages (from importlib-metadata>=4.4; python_version < \"3.10\"->markdown>=2.6.8->tensorboard->keras-tuner) (3.7.0)\n",
      "Requirement already satisfied, skipping upgrade: oauthlib>=3.0.0 in /home/apprenant/PycharmProjects/ClimateProject---E3/env/lib/python3.8/site-packages (from requests-oauthlib>=0.7.0->google-auth-oauthlib<0.5,>=0.4.1->tensorboard->keras-tuner) (3.2.0)\n",
      "Requirement already satisfied, skipping upgrade: pyasn1>=0.1.3 in /home/apprenant/PycharmProjects/ClimateProject---E3/env/lib/python3.8/site-packages (from rsa<5,>=3.1.4; python_version >= \"3.6\"->google-auth<3,>=1.6.3->tensorboard->keras-tuner) (0.4.8)\n"
     ]
    }
   ],
   "source": [
    "import pandas as pd\n",
    "import opendatasets as od\n",
    "from tensorflow.keras.callbacks import EarlyStopping\n",
    "import numpy as np\n",
    "import matplotlib.pylab as plt\n",
    "from sklearn.model_selection import train_test_split\n",
    "from tensorflow.keras.preprocessing.image import ImageDataGenerator\n",
    "from tensorflow.keras import layers, models, optimizers\n",
    "from tensorflow.keras import backend as K\n",
    "!pip3 install keras-tuner --upgrade"
   ]
  },
  {
   "cell_type": "code",
   "execution_count": 2,
   "metadata": {
    "collapsed": false
   },
   "outputs": [
    {
     "name": "stdout",
     "output_type": "stream",
     "text": [
      "Skipping, found downloaded files in \"./ship-and-iceberg-images\" (use force=True to force download)\n"
     ]
    }
   ],
   "source": [
    "od.download(\"https://www.kaggle.com/saurabhbagchi/ship-and-iceberg-images\")"
   ]
  },
  {
   "cell_type": "code",
   "execution_count": 3,
   "metadata": {
    "collapsed": false
   },
   "outputs": [],
   "source": [
    "import os\n",
    "for dirname, _, filenames in os.walk('/home/apprenant/PycharmProjects/ClimateProject---E3/ship-and-iceberg-images/input_data.npz'):\n",
    "    for filename in filenames:\n",
    "        print(os.path.join(dirname, filename))"
   ]
  },
  {
   "cell_type": "markdown",
   "metadata": {},
   "source": [
    " # Load the data"
   ]
  },
  {
   "cell_type": "code",
   "execution_count": 4,
   "metadata": {
    "collapsed": false,
    "scrolled": true
   },
   "outputs": [],
   "source": [
    "npz = np.load('/home/apprenant/PycharmProjects/ClimateProject---E3/Data analysis/ship-and-iceberg-images/input_data.npz')\n",
    "\n",
    "x = npz['X_train']\n",
    "y = npz['Y_train']\n",
    "del npz"
   ]
  },
  {
   "cell_type": "code",
   "execution_count": 5,
   "metadata": {
    "collapsed": false,
    "scrolled": false
   },
   "outputs": [
    {
     "name": "stdout",
     "output_type": "stream",
     "text": [
      "shape of picture: (4113, 75, 75, 3)\n",
      "shape of picture: (4113,)\n"
     ]
    }
   ],
   "source": [
    "print('shape of picture: {}'.format(x.shape))\n",
    "print('shape of picture: {}'.format(y.shape))"
   ]
  },
  {
   "cell_type": "code",
   "execution_count": 6,
   "metadata": {
    "collapsed": false
   },
   "outputs": [],
   "source": [
    "# First split the data in two sets, 80% for training, 20% for Val/Test)\n",
    "X_train, X_valtest, y_train, y_valtest = train_test_split(x,y, test_size=0.2, random_state=1, stratify=y)\n",
    "\n",
    "# Second split the 20% into validation and test sets\n",
    "X_test, X_val, y_test, y_val = train_test_split(X_valtest, y_valtest, test_size=0.8, random_state=1, stratify=y_valtest)"
   ]
  },
  {
   "cell_type": "code",
   "execution_count": 7,
   "metadata": {
    "collapsed": false
   },
   "outputs": [
    {
     "name": "stdout",
     "output_type": "stream",
     "text": [
      "(3290, 75, 75, 3)\n",
      "(659, 75, 75, 3)\n",
      "(164, 75, 75, 3)\n",
      "(3290,)\n",
      "(659,)\n",
      "(164,)\n"
     ]
    }
   ],
   "source": [
    "print(np.array(X_train).shape)\n",
    "print(np.array(X_val).shape)\n",
    "print(np.array(X_test).shape)\n",
    "print(np.array(y_train).shape)\n",
    "print(np.array(y_val).shape)\n",
    "print(np.array(y_test).shape)"
   ]
  },
  {
   "cell_type": "code",
   "execution_count": 8,
   "metadata": {
    "collapsed": false
   },
   "outputs": [
    {
     "data": {
      "text/plain": [
       "'channels_last'"
      ]
     },
     "execution_count": 8,
     "metadata": {},
     "output_type": "execute_result"
    }
   ],
   "source": [
    "K.image_data_format()"
   ]
  },
  {
   "cell_type": "code",
   "execution_count": 9,
   "metadata": {
    "collapsed": true
   },
   "outputs": [],
   "source": [
    "img_width, img_height = 75, 75\n",
    "nb_train_samples = len(X_train)\n",
    "nb_validation_samples = len(X_val)\n",
    "epochs = 10\n",
    "batch_size = 16"
   ]
  },
  {
   "cell_type": "code",
   "execution_count": 10,
   "metadata": {
    "collapsed": false,
    "scrolled": true
   },
   "outputs": [
    {
     "name": "stderr",
     "output_type": "stream",
     "text": [
      "/home/apprenant/.local/lib/python3.8/site-packages/tensorflow/python/keras/optimizer_v2/optimizer_v2.py:374: UserWarning: The `lr` argument is deprecated, use `learning_rate` instead.\n",
      "  warnings.warn(\n"
     ]
    }
   ],
   "source": [
    "model = models.Sequential()\n",
    "\n",
    "model.add(layers.Conv2D(32, (3, 3), input_shape=(img_width, img_height, 3)))\n",
    "model.add(layers.BatchNormalization())\n",
    "model.add(layers.Activation(\"relu\"))\n",
    "\n",
    "model.add(layers.MaxPooling2D((2, 2)))\n",
    "\n",
    "model.add(layers.Conv2D(64, (3, 3)))\n",
    "model.add(layers.BatchNormalization())\n",
    "model.add(layers.Activation(\"relu\"))\n",
    "\n",
    "model.add(layers.MaxPooling2D((2, 2)))\n",
    "\n",
    "model.add(layers.Conv2D(128, (3, 3)))\n",
    "model.add(layers.BatchNormalization())\n",
    "model.add(layers.Activation(\"relu\"))\n",
    "\n",
    "model.add(layers.MaxPooling2D((2, 2)))\n",
    "\n",
    "model.add(layers.Flatten())\n",
    "model.add(layers.Dense(64))\n",
    "model.add(layers.BatchNormalization())\n",
    "model.add(layers.Activation(\"relu\"))\n",
    "\n",
    "model.add(layers.Dense(1))\n",
    "model.add(layers.BatchNormalization())\n",
    "model.add(layers.Activation(\"sigmoid\"))\n",
    "\n",
    "model.compile(\n",
    "    loss='binary_crossentropy',\n",
    "    optimizer=optimizers.Adam(lr=0.001, beta_1=0.9, beta_2=0.999, epsilon=1e-7, decay=0.0),\n",
    "    metrics=['accuracy']);"
   ]
  },
  {
   "cell_type": "markdown",
   "metadata": {},
   "source": [
    "DATA AUGMENTATION"
   ]
  },
  {
   "cell_type": "code",
   "execution_count": 11,
   "metadata": {
    "collapsed": true
   },
   "outputs": [],
   "source": [
    "train_datagen = ImageDataGenerator(rescale=1. / 255, horizontal_flip=True, rotation_range=30)\n",
    "valtest_datagen = ImageDataGenerator(rescale=1. / 255)"
   ]
  },
  {
   "cell_type": "code",
   "execution_count": 12,
   "metadata": {
    "collapsed": false
   },
   "outputs": [],
   "source": [
    "train_generator = train_datagen.flow(np.array(X_train), y_train, batch_size=batch_size)\n",
    "validation_generator = valtest_datagen.flow(np.array(X_val), y_val, batch_size=batch_size)\n",
    "test_generator = valtest_datagen.flow(np.array(X_test), y_test, batch_size=batch_size)"
   ]
  },
  {
   "cell_type": "code",
   "execution_count": 13,
   "metadata": {
    "collapsed": false
   },
   "outputs": [],
   "source": [
    "# Create early stopping (once our model stops improving, stop training)\n",
    "early_stopping = EarlyStopping(monitor=\"val_accuracy\", patience=6) # stops after 6 rounds of no improvements"
   ]
  },
  {
   "cell_type": "code",
   "execution_count": 14,
   "metadata": {
    "collapsed": false,
    "scrolled": true
   },
   "outputs": [
    {
     "name": "stderr",
     "output_type": "stream",
     "text": [
      "/home/apprenant/.local/lib/python3.8/site-packages/tensorflow/python/keras/engine/training.py:1940: UserWarning: `Model.fit_generator` is deprecated and will be removed in a future version. Please use `Model.fit`, which supports generators.\n",
      "  warnings.warn('`Model.fit_generator` is deprecated and '\n"
     ]
    },
    {
     "name": "stdout",
     "output_type": "stream",
     "text": [
      "Epoch 1/10\n",
      "205/205 [==============================] - 15s 67ms/step - loss: 0.4791 - accuracy: 0.7975 - val_loss: 0.7285 - val_accuracy: 0.4848\n",
      "Epoch 2/10\n",
      "205/205 [==============================] - 13s 65ms/step - loss: 0.4119 - accuracy: 0.8519 - val_loss: 0.7081 - val_accuracy: 0.5137\n",
      "Epoch 3/10\n",
      "205/205 [==============================] - 14s 67ms/step - loss: 0.3812 - accuracy: 0.8586 - val_loss: 3.9824 - val_accuracy: 0.4863\n",
      "Epoch 4/10\n",
      "205/205 [==============================] - 13s 62ms/step - loss: 0.3591 - accuracy: 0.8732 - val_loss: 12.4875 - val_accuracy: 0.4863\n",
      "Epoch 5/10\n",
      "205/205 [==============================] - 13s 61ms/step - loss: 0.3280 - accuracy: 0.8861 - val_loss: 0.7284 - val_accuracy: 0.5183\n",
      "Epoch 6/10\n",
      "205/205 [==============================] - 13s 61ms/step - loss: 0.3133 - accuracy: 0.8842 - val_loss: 13.7217 - val_accuracy: 0.4848\n",
      "Epoch 7/10\n",
      "205/205 [==============================] - 13s 62ms/step - loss: 0.2966 - accuracy: 0.9026 - val_loss: 28.0396 - val_accuracy: 0.4848\n",
      "Epoch 8/10\n",
      "205/205 [==============================] - 13s 64ms/step - loss: 0.2801 - accuracy: 0.8977 - val_loss: 10.8274 - val_accuracy: 0.5137\n",
      "Epoch 9/10\n",
      "205/205 [==============================] - 13s 63ms/step - loss: 0.2675 - accuracy: 0.9062 - val_loss: 3.1408 - val_accuracy: 0.5152\n",
      "Epoch 10/10\n",
      "205/205 [==============================] - 13s 63ms/step - loss: 0.2598 - accuracy: 0.9065 - val_loss: 8.0796 - val_accuracy: 0.5152\n"
     ]
    }
   ],
   "source": [
    "history = model.fit_generator(\n",
    "    train_generator, \n",
    "    steps_per_epoch=nb_train_samples // batch_size,\n",
    "    epochs=epochs,\n",
    "    callbacks=early_stopping,\n",
    "    validation_data=validation_generator,\n",
    "    validation_steps=nb_validation_samples // batch_size\n",
    ");\n",
    "\n",
    "#model.save_weights('weights.h5')"
   ]
  },
  {
   "cell_type": "markdown",
   "metadata": {},
   "source": [
    "# RUN CNN"
   ]
  },
  {
   "cell_type": "code",
   "execution_count": 17,
   "metadata": {
    "collapsed": false
   },
   "outputs": [
    {
     "data": {
      "image/png": "[encoded data removed]",
      "text/plain": [
       "<Figure size 432x288 with 1 Axes>"
      ]
     },
     "metadata": {
      "needs_background": "light"
     },
     "output_type": "display_data"
    },
    {
     "data": {
      "image/png": "[encoded data removed]",
      "text/plain": [
       "<Figure size 432x288 with 1 Axes>"
      ]
     },
     "metadata": {
      "needs_background": "light"
     },
     "output_type": "display_data"
    }
   ],
   "source": [
    "acc = history.history['accuracy']\n",
    "val_acc = history.history['val_accuracy']\n",
    "loss = history.history['loss']\n",
    "val_loss = history.history['val_loss']\n",
    "epochs = range(1, len(acc) + 1)\n",
    "plt.plot(epochs, acc, 'blue', label='Training acc')\n",
    "plt.plot(epochs, val_acc, 'red', label='Validation acc')\n",
    "plt.title('Training and validation accuracy')\n",
    "plt.legend()\n",
    "plt.figure()\n",
    "plt.plot(epochs, loss, 'blue', label='Training loss')\n",
    "plt.plot(epochs, val_loss, 'red', label='Validation loss')\n",
    "plt.title('Training and validation loss')\n",
    "plt.legend()\n",
    "plt.show()"
   ]
  },
  {
   "cell_type": "markdown",
   "metadata": {},
   "source": [
    "# ÉVALUATION"
   ]
  },
  {
   "cell_type": "code",
   "execution_count": 18,
   "metadata": {
    "collapsed": false
   },
   "outputs": [
    {
     "data": {
      "text/html": [
       "<div>\n",
       "<style scoped>\n",
       "    .dataframe tbody tr th:only-of-type {\n",
       "        vertical-align: middle;\n",
       "    }\n",
       "\n",
       "    .dataframe tbody tr th {\n",
       "        vertical-align: top;\n",
       "    }\n",
       "\n",
       "    .dataframe thead th {\n",
       "        text-align: right;\n",
       "    }\n",
       "</style>\n",
       "<table border=\"1\" class=\"dataframe\">\n",
       "  <thead>\n",
       "    <tr style=\"text-align: right;\">\n",
       "      <th></th>\n",
       "      <th>loss</th>\n",
       "      <th>accuracy</th>\n",
       "      <th>val_loss</th>\n",
       "      <th>val_accuracy</th>\n",
       "    </tr>\n",
       "  </thead>\n",
       "  <tbody>\n",
       "    <tr>\n",
       "      <th>0</th>\n",
       "      <td>0.479069</td>\n",
       "      <td>0.797495</td>\n",
       "      <td>0.728496</td>\n",
       "      <td>0.484756</td>\n",
       "    </tr>\n",
       "    <tr>\n",
       "      <th>1</th>\n",
       "      <td>0.411938</td>\n",
       "      <td>0.851863</td>\n",
       "      <td>0.708149</td>\n",
       "      <td>0.513719</td>\n",
       "    </tr>\n",
       "    <tr>\n",
       "      <th>2</th>\n",
       "      <td>0.381200</td>\n",
       "      <td>0.858583</td>\n",
       "      <td>3.982449</td>\n",
       "      <td>0.486281</td>\n",
       "    </tr>\n",
       "    <tr>\n",
       "      <th>3</th>\n",
       "      <td>0.359058</td>\n",
       "      <td>0.873244</td>\n",
       "      <td>12.487513</td>\n",
       "      <td>0.486281</td>\n",
       "    </tr>\n",
       "    <tr>\n",
       "      <th>4</th>\n",
       "      <td>0.327955</td>\n",
       "      <td>0.886072</td>\n",
       "      <td>0.728394</td>\n",
       "      <td>0.518293</td>\n",
       "    </tr>\n",
       "  </tbody>\n",
       "</table>\n",
       "</div>"
      ],
      "text/plain": [
       "       loss  accuracy   val_loss  val_accuracy\n",
       "0  0.479069  0.797495   0.728496      0.484756\n",
       "1  0.411938  0.851863   0.708149      0.513719\n",
       "2  0.381200  0.858583   3.982449      0.486281\n",
       "3  0.359058  0.873244  12.487513      0.486281\n",
       "4  0.327955  0.886072   0.728394      0.518293"
      ]
     },
     "execution_count": 18,
     "metadata": {},
     "output_type": "execute_result"
    }
   ],
   "source": [
    "\n",
    "\n",
    "#create a dataframe of the model training history\n",
    "results = pd.DataFrame(history.history)\n",
    "results.head()\n",
    "\n"
   ]
  },
  {
   "cell_type": "code",
   "execution_count": 19,
   "metadata": {
    "collapsed": false
   },
   "outputs": [
    {
     "data": {
      "image/png": "[encoded data removed]",
      "text/plain": [
       "<Figure size 432x288 with 1 Axes>"
      ]
     },
     "metadata": {
      "needs_background": "light"
     },
     "output_type": "display_data"
    }
   ],
   "source": [
    "#plot the accuracy over the training and test set\n",
    "results[['accuracy','val_accuracy']].plot()\n",
    "plt.title('Model Accuracy Plot')\n",
    "plt.xlabel('Epochs')\n",
    "plt.ylabel('Accuracy')\n",
    "plt.grid()\n",
    "plt.show()"
   ]
  },
  {
   "cell_type": "code",
   "execution_count": 20,
   "metadata": {
    "collapsed": false
   },
   "outputs": [
    {
     "data": {
      "image/png": "[encoded data removed]",
      "text/plain": [
       "<Figure size 432x288 with 1 Axes>"
      ]
     },
     "metadata": {
      "needs_background": "light"
     },
     "output_type": "display_data"
    }
   ],
   "source": [
    "#plot the loss over the training and test set\n",
    "results[['loss','val_loss']].plot()\n",
    "plt.title('Model Loss Plot')\n",
    "plt.xlabel('Epochs')\n",
    "plt.ylabel('Loss')\n",
    "plt.grid()\n",
    "plt.show()"
   ]
  },
  {
   "cell_type": "code",
   "execution_count": 21,
   "metadata": {
    "collapsed": false
   },
   "outputs": [
    {
     "name": "stderr",
     "output_type": "stream",
     "text": [
      "/home/apprenant/.local/lib/python3.8/site-packages/tensorflow/python/keras/engine/sequential.py:455: UserWarning: `model.predict_classes()` is deprecated and will be removed after 2021-01-01. Please use instead:* `np.argmax(model.predict(x), axis=-1)`,   if your model does multi-class classification   (e.g. if it uses a `softmax` last-layer activation).* `(model.predict(x) > 0.5).astype(\"int32\")`,   if your model does binary classification   (e.g. if it uses a `sigmoid` last-layer activation).\n",
      "  warnings.warn('`model.predict_classes()` is deprecated and '\n"
     ]
    },
    {
     "data": {
      "image/png": "[encoded data removed]",
      "text/plain": [
       "<Figure size 360x360 with 2 Axes>"
      ]
     },
     "metadata": {
      "needs_background": "light"
     },
     "output_type": "display_data"
    }
   ],
   "source": [
    "\n",
    "\n",
    "# Thanks to paultimothymooney for the code to generate this!\n",
    "\n",
    "import sklearn\n",
    "import itertools\n",
    "from sklearn.metrics import confusion_matrix\n",
    "dict_characters = {0: 'No Infiltration Observed', 1: 'Pulmonary Infiltration Observed'}\n",
    "def plot_confusion_matrix(cm, classes,\n",
    "                          normalize=False,\n",
    "                          title='Confusion matrix',\n",
    "                          cmap=plt.cm.Blues):\n",
    "    plt.figure(figsize = (5,5))\n",
    "    plt.imshow(cm, interpolation='nearest', cmap=cmap)\n",
    "    plt.title(title)\n",
    "    plt.colorbar()\n",
    "    tick_marks = np.arange(len(classes))\n",
    "    plt.xticks(tick_marks, classes, rotation=90)\n",
    "    plt.yticks(tick_marks, classes)\n",
    "    if normalize:\n",
    "        cm = cm.astype('float') / cm.sum(axis=1)[:, np.newaxis]\n",
    "    thresh = cm.max() / 2.\n",
    "    for i, j in itertools.product(range(cm.shape[0]), range(cm.shape[1])):\n",
    "        plt.text(j, i, cm[i, j],\n",
    "                 horizontalalignment=\"center\",\n",
    "                 color=\"white\" if cm[i, j] > thresh else \"black\")\n",
    "    plt.tight_layout()\n",
    "    plt.ylabel('True label')\n",
    "    plt.xlabel('Predicted label')\n",
    "a=X_train\n",
    "b=y_train\n",
    "c=X_valtest\n",
    "d=y_valtest\n",
    "Y_pred = model.predict_classes(c)\n",
    "Y_pred_classes = np.argmax(Y_pred,axis=1) \n",
    "confusion_mtx = confusion_matrix(d, Y_pred_classes) \n",
    "plot_confusion_matrix(confusion_mtx, classes = list(dict_characters.values()))"
   ]
  },
  {
   "cell_type": "code",
   "execution_count": null,
   "metadata": {
    "collapsed": true
   },
   "outputs": [],
   "source": []
  }
 ],
 "metadata": {
  "anaconda-cloud": {},
  "kernelspec": {
   "display_name": "Python 3",
   "language": "python",
   "name": "python3"
  },
  "language_info": {
   "codemirror_mode": {
    "name": "ipython",
    "version": 3
   },
   "file_extension": ".py",
   "mimetype": "text/x-python",
   "name": "python",
   "nbconvert_exporter": "python",
   "pygments_lexer": "ipython3",
   "version": "3.8.10"
  }
 },
 "nbformat": 4,
 "nbformat_minor": 1
}
