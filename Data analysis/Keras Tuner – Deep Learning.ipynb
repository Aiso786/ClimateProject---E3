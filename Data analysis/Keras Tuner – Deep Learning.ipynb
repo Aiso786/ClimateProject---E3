{
 "cells": [
  {
   "cell_type": "code",
   "execution_count": 1,
   "metadata": {
    "collapsed": false
   },
   "outputs": [
    {
     "name": "stdout",
     "output_type": "stream",
     "text": [
      "Requirement already up-to-date: keras-tuner in /home/apprenant/PycharmProjects/ClimateProject---E3/env/lib/python3.8/site-packages (1.1.2)\n",
      "Requirement already satisfied, skipping upgrade: ipython in /home/apprenant/PycharmProjects/ClimateProject---E3/env/lib/python3.8/site-packages (from keras-tuner) (8.3.0)\n",
      "Requirement already satisfied, skipping upgrade: tensorboard in /home/apprenant/PycharmProjects/ClimateProject---E3/env/lib/python3.8/site-packages (from keras-tuner) (2.8.0)\n",
      "Requirement already satisfied, skipping upgrade: kt-legacy in /home/apprenant/PycharmProjects/ClimateProject---E3/env/lib/python3.8/site-packages (from keras-tuner) (1.0.4)\n",
      "Requirement already satisfied, skipping upgrade: numpy in /home/apprenant/PycharmProjects/ClimateProject---E3/env/lib/python3.8/site-packages (from keras-tuner) (1.22.3)\n",
      "Requirement already satisfied, skipping upgrade: requests in /home/apprenant/PycharmProjects/ClimateProject---E3/env/lib/python3.8/site-packages (from keras-tuner) (2.27.1)\n",
      "Requirement already satisfied, skipping upgrade: packaging in /home/apprenant/PycharmProjects/ClimateProject---E3/env/lib/python3.8/site-packages (from keras-tuner) (21.3)\n",
      "Requirement already satisfied, skipping upgrade: decorator in /home/apprenant/PycharmProjects/ClimateProject---E3/env/lib/python3.8/site-packages (from ipython->keras-tuner) (5.1.1)\n",
      "Requirement already satisfied, skipping upgrade: jedi>=0.16 in /home/apprenant/PycharmProjects/ClimateProject---E3/env/lib/python3.8/site-packages (from ipython->keras-tuner) (0.18.1)\n",
      "Requirement already satisfied, skipping upgrade: setuptools>=18.5 in /home/apprenant/PycharmProjects/ClimateProject---E3/env/lib/python3.8/site-packages (from ipython->keras-tuner) (44.0.0)\n",
      "Requirement already satisfied, skipping upgrade: pexpect>4.3; sys_platform != \"win32\" in /home/apprenant/PycharmProjects/ClimateProject---E3/env/lib/python3.8/site-packages (from ipython->keras-tuner) (4.8.0)\n",
      "Requirement already satisfied, skipping upgrade: pickleshare in /home/apprenant/PycharmProjects/ClimateProject---E3/env/lib/python3.8/site-packages (from ipython->keras-tuner) (0.7.5)\n",
      "Requirement already satisfied, skipping upgrade: stack-data in /home/apprenant/PycharmProjects/ClimateProject---E3/env/lib/python3.8/site-packages (from ipython->keras-tuner) (0.2.0)\n",
      "Requirement already satisfied, skipping upgrade: matplotlib-inline in /home/apprenant/PycharmProjects/ClimateProject---E3/env/lib/python3.8/site-packages (from ipython->keras-tuner) (0.1.3)\n",
      "Requirement already satisfied, skipping upgrade: traitlets>=5 in /home/apprenant/PycharmProjects/ClimateProject---E3/env/lib/python3.8/site-packages (from ipython->keras-tuner) (5.2.0)\n",
      "Requirement already satisfied, skipping upgrade: prompt-toolkit!=3.0.0,!=3.0.1,<3.1.0,>=2.0.0 in /home/apprenant/PycharmProjects/ClimateProject---E3/env/lib/python3.8/site-packages (from ipython->keras-tuner) (3.0.29)\n",
      "Requirement already satisfied, skipping upgrade: pygments>=2.4.0 in /home/apprenant/PycharmProjects/ClimateProject---E3/env/lib/python3.8/site-packages (from ipython->keras-tuner) (2.12.0)\n",
      "Requirement already satisfied, skipping upgrade: backcall in /home/apprenant/PycharmProjects/ClimateProject---E3/env/lib/python3.8/site-packages (from ipython->keras-tuner) (0.2.0)\n",
      "Requirement already satisfied, skipping upgrade: protobuf>=3.6.0 in /home/apprenant/PycharmProjects/ClimateProject---E3/env/lib/python3.8/site-packages (from tensorboard->keras-tuner) (3.19.4)\n",
      "Requirement already satisfied, skipping upgrade: wheel>=0.26 in /home/apprenant/PycharmProjects/ClimateProject---E3/env/lib/python3.8/site-packages (from tensorboard->keras-tuner) (0.37.1)\n",
      "Requirement already satisfied, skipping upgrade: tensorboard-data-server<0.7.0,>=0.6.0 in /home/apprenant/PycharmProjects/ClimateProject---E3/env/lib/python3.8/site-packages (from tensorboard->keras-tuner) (0.6.1)\n",
      "Requirement already satisfied, skipping upgrade: markdown>=2.6.8 in /home/apprenant/PycharmProjects/ClimateProject---E3/env/lib/python3.8/site-packages (from tensorboard->keras-tuner) (3.3.6)\n",
      "Requirement already satisfied, skipping upgrade: tensorboard-plugin-wit>=1.6.0 in /home/apprenant/PycharmProjects/ClimateProject---E3/env/lib/python3.8/site-packages (from tensorboard->keras-tuner) (1.8.1)\n",
      "Requirement already satisfied, skipping upgrade: grpcio>=1.24.3 in /home/apprenant/PycharmProjects/ClimateProject---E3/env/lib/python3.8/site-packages (from tensorboard->keras-tuner) (1.44.0)\n",
      "Requirement already satisfied, skipping upgrade: absl-py>=0.4 in /home/apprenant/PycharmProjects/ClimateProject---E3/env/lib/python3.8/site-packages (from tensorboard->keras-tuner) (1.0.0)\n",
      "Requirement already satisfied, skipping upgrade: werkzeug>=0.11.15 in /home/apprenant/PycharmProjects/ClimateProject---E3/env/lib/python3.8/site-packages (from tensorboard->keras-tuner) (2.0.3)\n",
      "Requirement already satisfied, skipping upgrade: google-auth<3,>=1.6.3 in /home/apprenant/PycharmProjects/ClimateProject---E3/env/lib/python3.8/site-packages (from tensorboard->keras-tuner) (2.6.0)\n",
      "Requirement already satisfied, skipping upgrade: google-auth-oauthlib<0.5,>=0.4.1 in /home/apprenant/PycharmProjects/ClimateProject---E3/env/lib/python3.8/site-packages (from tensorboard->keras-tuner) (0.4.6)\n",
      "Requirement already satisfied, skipping upgrade: charset-normalizer~=2.0.0; python_version >= \"3\" in /home/apprenant/PycharmProjects/ClimateProject---E3/env/lib/python3.8/site-packages (from requests->keras-tuner) (2.0.12)\n",
      "Requirement already satisfied, skipping upgrade: urllib3<1.27,>=1.21.1 in /home/apprenant/PycharmProjects/ClimateProject---E3/env/lib/python3.8/site-packages (from requests->keras-tuner) (1.26.9)\n",
      "Requirement already satisfied, skipping upgrade: idna<4,>=2.5; python_version >= \"3\" in /home/apprenant/PycharmProjects/ClimateProject---E3/env/lib/python3.8/site-packages (from requests->keras-tuner) (3.3)\n",
      "Requirement already satisfied, skipping upgrade: certifi>=2017.4.17 in /home/apprenant/PycharmProjects/ClimateProject---E3/env/lib/python3.8/site-packages (from requests->keras-tuner) (2021.10.8)\n",
      "Requirement already satisfied, skipping upgrade: pyparsing!=3.0.5,>=2.0.2 in /home/apprenant/PycharmProjects/ClimateProject---E3/env/lib/python3.8/site-packages (from packaging->keras-tuner) (3.0.7)\n",
      "Requirement already satisfied, skipping upgrade: parso<0.9.0,>=0.8.0 in /home/apprenant/PycharmProjects/ClimateProject---E3/env/lib/python3.8/site-packages (from jedi>=0.16->ipython->keras-tuner) (0.8.3)\n",
      "Requirement already satisfied, skipping upgrade: ptyprocess>=0.5 in /home/apprenant/PycharmProjects/ClimateProject---E3/env/lib/python3.8/site-packages (from pexpect>4.3; sys_platform != \"win32\"->ipython->keras-tuner) (0.7.0)\n",
      "Requirement already satisfied, skipping upgrade: asttokens in /home/apprenant/PycharmProjects/ClimateProject---E3/env/lib/python3.8/site-packages (from stack-data->ipython->keras-tuner) (2.0.5)\n",
      "Requirement already satisfied, skipping upgrade: executing in /home/apprenant/PycharmProjects/ClimateProject---E3/env/lib/python3.8/site-packages (from stack-data->ipython->keras-tuner) (0.8.3)\n",
      "Requirement already satisfied, skipping upgrade: pure-eval in /home/apprenant/PycharmProjects/ClimateProject---E3/env/lib/python3.8/site-packages (from stack-data->ipython->keras-tuner) (0.2.2)\n",
      "Requirement already satisfied, skipping upgrade: wcwidth in /home/apprenant/PycharmProjects/ClimateProject---E3/env/lib/python3.8/site-packages (from prompt-toolkit!=3.0.0,!=3.0.1,<3.1.0,>=2.0.0->ipython->keras-tuner) (0.2.5)\n",
      "Requirement already satisfied, skipping upgrade: importlib-metadata>=4.4; python_version < \"3.10\" in /home/apprenant/PycharmProjects/ClimateProject---E3/env/lib/python3.8/site-packages (from markdown>=2.6.8->tensorboard->keras-tuner) (4.10.1)\n",
      "Requirement already satisfied, skipping upgrade: six>=1.5.2 in /home/apprenant/PycharmProjects/ClimateProject---E3/env/lib/python3.8/site-packages (from grpcio>=1.24.3->tensorboard->keras-tuner) (1.16.0)\n",
      "Requirement already satisfied, skipping upgrade: rsa<5,>=3.1.4; python_version >= \"3.6\" in /home/apprenant/PycharmProjects/ClimateProject---E3/env/lib/python3.8/site-packages (from google-auth<3,>=1.6.3->tensorboard->keras-tuner) (4.8)\n",
      "Requirement already satisfied, skipping upgrade: pyasn1-modules>=0.2.1 in /home/apprenant/PycharmProjects/ClimateProject---E3/env/lib/python3.8/site-packages (from google-auth<3,>=1.6.3->tensorboard->keras-tuner) (0.2.8)\n",
      "Requirement already satisfied, skipping upgrade: cachetools<6.0,>=2.0.0 in /home/apprenant/PycharmProjects/ClimateProject---E3/env/lib/python3.8/site-packages (from google-auth<3,>=1.6.3->tensorboard->keras-tuner) (5.0.0)\n",
      "Requirement already satisfied, skipping upgrade: requests-oauthlib>=0.7.0 in /home/apprenant/PycharmProjects/ClimateProject---E3/env/lib/python3.8/site-packages (from google-auth-oauthlib<0.5,>=0.4.1->tensorboard->keras-tuner) (1.3.1)\n",
      "Requirement already satisfied, skipping upgrade: zipp>=0.5 in /home/apprenant/PycharmProjects/ClimateProject---E3/env/lib/python3.8/site-packages (from importlib-metadata>=4.4; python_version < \"3.10\"->markdown>=2.6.8->tensorboard->keras-tuner) (3.7.0)\n",
      "Requirement already satisfied, skipping upgrade: pyasn1>=0.1.3 in /home/apprenant/PycharmProjects/ClimateProject---E3/env/lib/python3.8/site-packages (from rsa<5,>=3.1.4; python_version >= \"3.6\"->google-auth<3,>=1.6.3->tensorboard->keras-tuner) (0.4.8)\n",
      "Requirement already satisfied, skipping upgrade: oauthlib>=3.0.0 in /home/apprenant/PycharmProjects/ClimateProject---E3/env/lib/python3.8/site-packages (from requests-oauthlib>=0.7.0->google-auth-oauthlib<0.5,>=0.4.1->tensorboard->keras-tuner) (3.2.0)\n",
      "Requirement already satisfied: keras in /home/apprenant/PycharmProjects/ClimateProject---E3/env/lib/python3.8/site-packages (2.8.0)\n"
     ]
    }
   ],
   "source": [
    "import pandas as pd\n",
    "import opendatasets as od\n",
    "from tensorflow.keras.callbacks import EarlyStopping\n",
    "import numpy as np\n",
    "import matplotlib.pylab as plt\n",
    "from sklearn.model_selection import train_test_split\n",
    "from tensorflow.keras.preprocessing.image import ImageDataGenerator\n",
    "from tensorflow.keras import layers, models, optimizers\n",
    "from tensorflow.keras import backend as K\n",
    "!pip3 install keras-tuner --upgrade\n",
    "!pip3 install keras"
   ]
  },
  {
   "cell_type": "code",
   "execution_count": 2,
   "metadata": {
    "collapsed": false
   },
   "outputs": [
    {
     "name": "stdout",
     "output_type": "stream",
     "text": [
      "Skipping, found downloaded files in \"./ship-and-iceberg-images\" (use force=True to force download)\n"
     ]
    }
   ],
   "source": [
    "od.download(\"https://www.kaggle.com/saurabhbagchi/ship-and-iceberg-images\")"
   ]
  },
  {
   "cell_type": "code",
   "execution_count": 3,
   "metadata": {
    "collapsed": false
   },
   "outputs": [],
   "source": [
    "import os\n",
    "for dirname, _, filenames in os.walk('/home/apprenant/PycharmProjects/ClimateProject---E3/ship-and-iceberg-images/input_data.npz'):\n",
    "    for filename in filenames:\n",
    "        print(os.path.join(dirname, filename))"
   ]
  },
  {
   "cell_type": "markdown",
   "metadata": {},
   "source": [
    " # Load the data"
   ]
  },
  {
   "cell_type": "code",
   "execution_count": 4,
   "metadata": {
    "collapsed": false,
    "scrolled": true
   },
   "outputs": [],
   "source": [
    "npz = np.load('/home/apprenant/PycharmProjects/ClimateProject---E3/Data analysis/ship-and-iceberg-images/input_data.npz')\n",
    "\n",
    "x = npz['X_train']\n",
    "y = npz['Y_train']\n",
    "del npz"
   ]
  },
  {
   "cell_type": "code",
   "execution_count": 5,
   "metadata": {
    "collapsed": false,
    "scrolled": false
   },
   "outputs": [
    {
     "name": "stdout",
     "output_type": "stream",
     "text": [
      "shape of picture: (4113, 75, 75, 3)\n",
      "shape of picture: (4113,)\n"
     ]
    }
   ],
   "source": [
    "print('shape of picture: {}'.format(x.shape))\n",
    "print('shape of picture: {}'.format(y.shape))"
   ]
  },
  {
   "cell_type": "code",
   "execution_count": 6,
   "metadata": {
    "collapsed": false
   },
   "outputs": [],
   "source": [
    "# First split the data in two sets, 80% for training, 20% for Val/Test)\n",
    "X_train, X_valtest, y_train, y_valtest = train_test_split(x,y, test_size=0.2, random_state=1, stratify=y)\n",
    "\n",
    "# Second split the 20% into validation and test sets\n",
    "X_test, X_val, y_test, y_val = train_test_split(X_valtest, y_valtest, test_size=0.8, random_state=1, stratify=y_valtest)"
   ]
  },
  {
   "cell_type": "code",
   "execution_count": 7,
   "metadata": {
    "collapsed": false,
    "scrolled": true
   },
   "outputs": [
    {
     "name": "stdout",
     "output_type": "stream",
     "text": [
      "(3290, 75, 75, 3)\n",
      "(659, 75, 75, 3)\n",
      "(164, 75, 75, 3)\n",
      "(3290,)\n",
      "(659,)\n",
      "(164,)\n"
     ]
    }
   ],
   "source": [
    "print(np.array(X_train).shape)\n",
    "print(np.array(X_val).shape)\n",
    "print(np.array(X_test).shape)\n",
    "print(np.array(y_train).shape)\n",
    "print(np.array(y_val).shape)\n",
    "print(np.array(y_test).shape)"
   ]
  },
  {
   "cell_type": "code",
   "execution_count": 8,
   "metadata": {
    "collapsed": true
   },
   "outputs": [],
   "source": [
    "def build_model(hp):\n",
    "    # create model object\n",
    "    model = keras.Sequential([\n",
    "    #adding first convolutional layer    \n",
    "    keras.layers.Conv2D(\n",
    "        #adding filter \n",
    "        filters=hp.Int('conv_1_filter', min_value=5, max_value=128, step=16),\n",
    "        # adding filter size or kernel size\n",
    "        kernel_size=hp.Choice('conv_1_kernel', values = [3,5]),\n",
    "        #activation function\n",
    "        activation='relu',\n",
    "        input_shape=(75,75,3)),\n",
    "    # adding second convolutional layer \n",
    "    keras.layers.Conv2D(\n",
    "        #adding filter \n",
    "        filters=hp.Int('conv_2_filter', min_value=5, max_value=64, step=16),\n",
    "        #adding filter size or kernel size\n",
    "        kernel_size=hp.Choice('conv_2_kernel', values = [3,5]),\n",
    "        #activation function\n",
    "        activation='relu'\n",
    "    ),\n",
    "    keras.layers.Dropout(0.2),\n",
    "    # adding flatten layer    \n",
    "    keras.layers.Flatten(),\n",
    "    # adding dense layer    \n",
    "    keras.layers.Dense(\n",
    "        units=hp.Int('dense_1_units', min_value=5, max_value=128, step=16),\n",
    "        activation='relu'\n",
    "    ),\n",
    "    keras.layers.BatchNormalization(),    \n",
    "    # output layer    \n",
    "    keras.layers.Dense(10, activation='sigmoid')\n",
    "    ])\n",
    "    #compilation of model\n",
    "    model.compile(optimizer=keras.optimizers.Adam(hp.Choice('learning_rate', values=[1e-2, 1e-3])),\n",
    "              loss='sparse_categorical_crossentropy',\n",
    "              metrics=['accuracy'])\n",
    "    return model"
   ]
  },
  {
   "cell_type": "code",
   "execution_count": 9,
   "metadata": {
    "collapsed": false
   },
   "outputs": [],
   "source": [
    "from tensorflow import keras\n",
    "import keras_tuner"
   ]
  },
  {
   "cell_type": "code",
   "execution_count": 10,
   "metadata": {
    "collapsed": false
   },
   "outputs": [
    {
     "name": "stdout",
     "output_type": "stream",
     "text": [
      "INFO:tensorflow:Reloading Oracle from existing project ./untitled_project/oracle.json\n",
      "INFO:tensorflow:Reloading Tuner from ./untitled_project/tuner0.json\n",
      "INFO:tensorflow:Oracle triggered exit\n"
     ]
    }
   ],
   "source": [
    "#creating randomsearch object\n",
    "tuner = keras_tuner.RandomSearch(build_model,\n",
    "                    objective='val_accuracy',\n",
    "                    max_trials = 2,\n",
    "                    overwrite=False)\n",
    "# search best parameter\n",
    "tuner.search(X_train,y_train,epochs=3,validation_data=(X_val,y_val))"
   ]
  },
  {
   "cell_type": "code",
   "execution_count": 11,
   "metadata": {
    "collapsed": false
   },
   "outputs": [
    {
     "name": "stdout",
     "output_type": "stream",
     "text": [
      "Model: \"sequential\"\n",
      "_________________________________________________________________\n",
      "Layer (type)                 Output Shape              Param #   \n",
      "=================================================================\n",
      "conv2d (Conv2D)              (None, 73, 73, 21)        588       \n",
      "_________________________________________________________________\n",
      "conv2d_1 (Conv2D)            (None, 71, 71, 37)        7030      \n",
      "_________________________________________________________________\n",
      "dropout (Dropout)            (None, 71, 71, 37)        0         \n",
      "_________________________________________________________________\n",
      "flatten (Flatten)            (None, 186517)            0         \n",
      "_________________________________________________________________\n",
      "dense (Dense)                (None, 85)                15854030  \n",
      "_________________________________________________________________\n",
      "batch_normalization (BatchNo (None, 85)                340       \n",
      "_________________________________________________________________\n",
      "dense_1 (Dense)              (None, 10)                860       \n",
      "=================================================================\n",
      "Total params: 15,862,848\n",
      "Trainable params: 15,862,678\n",
      "Non-trainable params: 170\n",
      "_________________________________________________________________\n"
     ]
    }
   ],
   "source": [
    "model=tuner.get_best_models(num_models=1)[0]\n",
    "#summary of best model\n",
    "model.summary()"
   ]
  },
  {
   "cell_type": "code",
   "execution_count": 12,
   "metadata": {
    "collapsed": false
   },
   "outputs": [
    {
     "name": "stdout",
     "output_type": "stream",
     "text": [
      "Epoch 1/100\n",
      "93/93 [==============================] - 18s 189ms/step - loss: 0.2112 - accuracy: 0.9149 - val_loss: 0.2028 - val_accuracy: 0.9271\n",
      "Epoch 2/100\n",
      "93/93 [==============================] - 17s 185ms/step - loss: 0.1008 - accuracy: 0.9605 - val_loss: 3.3654 - val_accuracy: 0.5319\n",
      "Epoch 3/100\n",
      "93/93 [==============================] - 17s 185ms/step - loss: 0.1031 - accuracy: 0.9629 - val_loss: 0.1973 - val_accuracy: 0.9362\n",
      "Epoch 4/100\n",
      "93/93 [==============================] - 17s 185ms/step - loss: 0.0613 - accuracy: 0.9764 - val_loss: 0.5800 - val_accuracy: 0.8693\n",
      "Epoch 5/100\n",
      "93/93 [==============================] - 17s 185ms/step - loss: 0.0658 - accuracy: 0.9764 - val_loss: 4.7736 - val_accuracy: 0.5228\n",
      "Epoch 6/100\n",
      "93/93 [==============================] - 17s 184ms/step - loss: 0.0480 - accuracy: 0.9824 - val_loss: 2.3465 - val_accuracy: 0.6353\n",
      "Epoch 7/100\n",
      "93/93 [==============================] - 17s 184ms/step - loss: 0.0437 - accuracy: 0.9872 - val_loss: 2.4989 - val_accuracy: 0.5988\n",
      "Epoch 8/100\n",
      "93/93 [==============================] - 17s 184ms/step - loss: 0.0366 - accuracy: 0.9885 - val_loss: 0.4724 - val_accuracy: 0.8754\n",
      "Epoch 9/100\n",
      "93/93 [==============================] - 17s 184ms/step - loss: 0.0581 - accuracy: 0.9801 - val_loss: 0.7199 - val_accuracy: 0.8632\n",
      "Epoch 10/100\n",
      "93/93 [==============================] - 17s 184ms/step - loss: 0.0241 - accuracy: 0.9929 - val_loss: 0.5866 - val_accuracy: 0.8815\n",
      "Epoch 11/100\n",
      "93/93 [==============================] - 17s 185ms/step - loss: 0.0170 - accuracy: 0.9949 - val_loss: 0.5751 - val_accuracy: 0.8693\n",
      "Epoch 12/100\n",
      "93/93 [==============================] - 17s 185ms/step - loss: 0.0361 - accuracy: 0.9882 - val_loss: 3.2617 - val_accuracy: 0.6079\n",
      "Epoch 13/100\n",
      "93/93 [==============================] - 17s 184ms/step - loss: 0.0850 - accuracy: 0.9726 - val_loss: 1.7915 - val_accuracy: 0.7295\n",
      "Epoch 14/100\n",
      "93/93 [==============================] - 17s 185ms/step - loss: 0.0376 - accuracy: 0.9855 - val_loss: 0.8592 - val_accuracy: 0.8602\n",
      "Epoch 15/100\n",
      "93/93 [==============================] - 17s 184ms/step - loss: 0.0221 - accuracy: 0.9926 - val_loss: 0.5515 - val_accuracy: 0.8936\n",
      "Epoch 16/100\n",
      "93/93 [==============================] - 17s 185ms/step - loss: 0.0136 - accuracy: 0.9959 - val_loss: 1.0371 - val_accuracy: 0.7933\n",
      "Epoch 17/100\n",
      "93/93 [==============================] - 18s 189ms/step - loss: 0.0130 - accuracy: 0.9953 - val_loss: 0.8465 - val_accuracy: 0.8419\n",
      "Epoch 18/100\n",
      "93/93 [==============================] - 17s 185ms/step - loss: 0.0210 - accuracy: 0.9929 - val_loss: 1.4242 - val_accuracy: 0.8024\n",
      "Epoch 19/100\n",
      "93/93 [==============================] - 17s 183ms/step - loss: 0.0182 - accuracy: 0.9916 - val_loss: 0.7005 - val_accuracy: 0.8845\n",
      "Epoch 20/100\n",
      "93/93 [==============================] - 17s 182ms/step - loss: 0.0419 - accuracy: 0.9848 - val_loss: 0.5221 - val_accuracy: 0.8875\n",
      "Epoch 21/100\n",
      "93/93 [==============================] - 17s 184ms/step - loss: 0.0181 - accuracy: 0.9926 - val_loss: 1.7426 - val_accuracy: 0.7690\n",
      "Epoch 22/100\n",
      "93/93 [==============================] - 17s 183ms/step - loss: 0.0166 - accuracy: 0.9939 - val_loss: 0.6061 - val_accuracy: 0.8632\n",
      "Epoch 23/100\n",
      "93/93 [==============================] - 17s 183ms/step - loss: 0.0114 - accuracy: 0.9959 - val_loss: 1.2689 - val_accuracy: 0.8511\n",
      "Epoch 24/100\n",
      "93/93 [==============================] - 17s 183ms/step - loss: 0.0367 - accuracy: 0.9889 - val_loss: 0.9510 - val_accuracy: 0.8450\n",
      "Epoch 25/100\n",
      "93/93 [==============================] - 17s 183ms/step - loss: 0.0107 - accuracy: 0.9959 - val_loss: 0.8894 - val_accuracy: 0.8571\n",
      "Epoch 26/100\n",
      "93/93 [==============================] - 17s 183ms/step - loss: 0.0282 - accuracy: 0.9912 - val_loss: 0.6417 - val_accuracy: 0.8693\n",
      "Epoch 27/100\n",
      "93/93 [==============================] - 17s 184ms/step - loss: 0.0184 - accuracy: 0.9932 - val_loss: 1.4437 - val_accuracy: 0.7903\n",
      "Epoch 28/100\n",
      "93/93 [==============================] - 17s 185ms/step - loss: 0.0111 - accuracy: 0.9970 - val_loss: 0.7197 - val_accuracy: 0.8875\n",
      "Epoch 29/100\n",
      "93/93 [==============================] - 17s 183ms/step - loss: 0.0304 - accuracy: 0.9922 - val_loss: 0.6988 - val_accuracy: 0.8419\n",
      "Epoch 30/100\n",
      "93/93 [==============================] - 17s 183ms/step - loss: 0.0166 - accuracy: 0.9932 - val_loss: 0.8349 - val_accuracy: 0.8571\n",
      "Epoch 31/100\n",
      "93/93 [==============================] - 17s 183ms/step - loss: 0.0091 - accuracy: 0.9966 - val_loss: 3.3538 - val_accuracy: 0.6353\n",
      "Epoch 32/100\n",
      "93/93 [==============================] - 17s 183ms/step - loss: 0.0212 - accuracy: 0.9922 - val_loss: 0.6779 - val_accuracy: 0.8693\n",
      "Epoch 33/100\n",
      "93/93 [==============================] - 17s 184ms/step - loss: 0.0185 - accuracy: 0.9936 - val_loss: 0.8658 - val_accuracy: 0.8267\n",
      "Epoch 34/100\n",
      "93/93 [==============================] - 17s 184ms/step - loss: 0.0106 - accuracy: 0.9959 - val_loss: 0.7809 - val_accuracy: 0.8815\n",
      "Epoch 35/100\n",
      "93/93 [==============================] - 17s 184ms/step - loss: 0.0193 - accuracy: 0.9932 - val_loss: 1.1244 - val_accuracy: 0.8024\n",
      "Epoch 36/100\n",
      "93/93 [==============================] - 17s 184ms/step - loss: 0.0202 - accuracy: 0.9929 - val_loss: 0.7914 - val_accuracy: 0.8875\n",
      "Epoch 37/100\n",
      "93/93 [==============================] - 17s 184ms/step - loss: 0.0058 - accuracy: 0.9983 - val_loss: 0.9582 - val_accuracy: 0.8784\n",
      "Epoch 38/100\n",
      "93/93 [==============================] - 17s 183ms/step - loss: 0.0091 - accuracy: 0.9963 - val_loss: 0.7645 - val_accuracy: 0.8754\n",
      "Epoch 39/100\n",
      "93/93 [==============================] - 17s 183ms/step - loss: 0.0114 - accuracy: 0.9963 - val_loss: 1.2282 - val_accuracy: 0.7781\n",
      "Epoch 40/100\n",
      "93/93 [==============================] - 17s 183ms/step - loss: 0.0110 - accuracy: 0.9963 - val_loss: 2.8121 - val_accuracy: 0.7568\n",
      "Epoch 41/100\n",
      "93/93 [==============================] - 17s 182ms/step - loss: 0.0301 - accuracy: 0.9892 - val_loss: 1.2413 - val_accuracy: 0.8419\n",
      "Epoch 42/100\n",
      "93/93 [==============================] - 17s 183ms/step - loss: 0.0061 - accuracy: 0.9976 - val_loss: 0.9316 - val_accuracy: 0.8906\n",
      "Epoch 43/100\n",
      "93/93 [==============================] - 17s 183ms/step - loss: 0.0068 - accuracy: 0.9976 - val_loss: 1.2712 - val_accuracy: 0.8723\n",
      "Epoch 44/100\n",
      "93/93 [==============================] - 17s 183ms/step - loss: 0.0148 - accuracy: 0.9949 - val_loss: 4.1172 - val_accuracy: 0.6018\n",
      "Epoch 45/100\n",
      "93/93 [==============================] - 17s 183ms/step - loss: 0.0270 - accuracy: 0.9905 - val_loss: 0.9850 - val_accuracy: 0.8541\n",
      "Epoch 46/100\n",
      "93/93 [==============================] - 17s 183ms/step - loss: 0.0080 - accuracy: 0.9976 - val_loss: 0.8103 - val_accuracy: 0.8511\n",
      "Epoch 47/100\n",
      "93/93 [==============================] - 17s 183ms/step - loss: 0.0305 - accuracy: 0.9909 - val_loss: 2.2103 - val_accuracy: 0.6839\n",
      "Epoch 48/100\n",
      "93/93 [==============================] - 17s 184ms/step - loss: 0.0183 - accuracy: 0.9932 - val_loss: 0.7983 - val_accuracy: 0.8663\n",
      "Epoch 49/100\n",
      "93/93 [==============================] - 17s 183ms/step - loss: 0.0093 - accuracy: 0.9976 - val_loss: 0.9468 - val_accuracy: 0.8541\n",
      "Epoch 50/100\n",
      "93/93 [==============================] - 17s 184ms/step - loss: 0.0142 - accuracy: 0.9956 - val_loss: 3.1486 - val_accuracy: 0.6505\n",
      "Epoch 51/100\n",
      "93/93 [==============================] - 17s 183ms/step - loss: 0.0206 - accuracy: 0.9939 - val_loss: 0.7989 - val_accuracy: 0.8419\n",
      "Epoch 52/100\n",
      "93/93 [==============================] - 17s 184ms/step - loss: 0.0093 - accuracy: 0.9963 - val_loss: 1.8153 - val_accuracy: 0.8176\n",
      "Epoch 53/100\n",
      "93/93 [==============================] - 17s 184ms/step - loss: 0.0258 - accuracy: 0.9922 - val_loss: 0.9166 - val_accuracy: 0.8450\n",
      "Epoch 54/100\n",
      "93/93 [==============================] - 17s 183ms/step - loss: 0.0155 - accuracy: 0.9932 - val_loss: 1.3421 - val_accuracy: 0.7842\n",
      "Epoch 55/100\n",
      "93/93 [==============================] - 17s 183ms/step - loss: 0.0046 - accuracy: 0.9976 - val_loss: 0.8284 - val_accuracy: 0.8936\n",
      "Epoch 56/100\n",
      "93/93 [==============================] - 17s 184ms/step - loss: 0.0125 - accuracy: 0.9959 - val_loss: 1.4216 - val_accuracy: 0.8419\n",
      "Epoch 57/100\n",
      "93/93 [==============================] - 17s 183ms/step - loss: 0.0093 - accuracy: 0.9966 - val_loss: 0.9921 - val_accuracy: 0.8359\n",
      "Epoch 58/100\n",
      "93/93 [==============================] - 17s 183ms/step - loss: 0.0079 - accuracy: 0.9966 - val_loss: 1.2992 - val_accuracy: 0.8359\n",
      "Epoch 59/100\n",
      "93/93 [==============================] - 17s 183ms/step - loss: 0.0397 - accuracy: 0.9885 - val_loss: 1.8343 - val_accuracy: 0.7264\n",
      "Epoch 60/100\n",
      "93/93 [==============================] - 17s 183ms/step - loss: 0.0221 - accuracy: 0.9939 - val_loss: 0.7172 - val_accuracy: 0.8541\n",
      "Epoch 61/100\n",
      "93/93 [==============================] - 17s 183ms/step - loss: 0.0423 - accuracy: 0.9855 - val_loss: 1.0434 - val_accuracy: 0.8176\n",
      "Epoch 62/100\n",
      "93/93 [==============================] - 17s 183ms/step - loss: 0.0344 - accuracy: 0.9902 - val_loss: 0.8829 - val_accuracy: 0.8511\n",
      "Epoch 63/100\n",
      "93/93 [==============================] - 17s 184ms/step - loss: 0.0097 - accuracy: 0.9973 - val_loss: 0.7959 - val_accuracy: 0.8754\n",
      "Epoch 64/100\n",
      "93/93 [==============================] - 17s 184ms/step - loss: 0.0079 - accuracy: 0.9970 - val_loss: 1.1948 - val_accuracy: 0.8571\n",
      "Epoch 65/100\n",
      "93/93 [==============================] - 17s 183ms/step - loss: 0.0261 - accuracy: 0.9916 - val_loss: 1.5262 - val_accuracy: 0.7204\n",
      "Epoch 66/100\n",
      "93/93 [==============================] - 17s 184ms/step - loss: 0.0048 - accuracy: 0.9986 - val_loss: 0.8800 - val_accuracy: 0.8754\n",
      "Epoch 67/100\n",
      "93/93 [==============================] - 17s 183ms/step - loss: 0.0039 - accuracy: 0.9990 - val_loss: 1.7402 - val_accuracy: 0.7508\n",
      "Epoch 68/100\n",
      "93/93 [==============================] - 17s 183ms/step - loss: 0.0109 - accuracy: 0.9973 - val_loss: 1.0020 - val_accuracy: 0.8602\n",
      "Epoch 69/100\n",
      "93/93 [==============================] - 17s 183ms/step - loss: 0.0102 - accuracy: 0.9973 - val_loss: 1.0077 - val_accuracy: 0.8511\n",
      "Epoch 70/100\n",
      "93/93 [==============================] - 17s 183ms/step - loss: 0.0041 - accuracy: 0.9986 - val_loss: 1.2264 - val_accuracy: 0.8754\n",
      "Epoch 71/100\n",
      "93/93 [==============================] - 17s 183ms/step - loss: 0.0044 - accuracy: 0.9983 - val_loss: 1.5176 - val_accuracy: 0.8389\n",
      "Epoch 72/100\n",
      "93/93 [==============================] - 17s 183ms/step - loss: 0.0142 - accuracy: 0.9946 - val_loss: 1.0850 - val_accuracy: 0.8267\n",
      "Epoch 73/100\n",
      "93/93 [==============================] - 17s 184ms/step - loss: 0.0105 - accuracy: 0.9973 - val_loss: 0.8725 - val_accuracy: 0.8480\n",
      "Epoch 74/100\n",
      "93/93 [==============================] - 17s 184ms/step - loss: 0.0245 - accuracy: 0.9912 - val_loss: 0.7823 - val_accuracy: 0.8511\n",
      "Epoch 75/100\n",
      "93/93 [==============================] - 17s 183ms/step - loss: 0.0117 - accuracy: 0.9970 - val_loss: 1.2613 - val_accuracy: 0.8024\n",
      "Epoch 76/100\n",
      "93/93 [==============================] - 17s 184ms/step - loss: 0.0098 - accuracy: 0.9956 - val_loss: 1.3194 - val_accuracy: 0.8055\n",
      "Epoch 77/100\n",
      "93/93 [==============================] - 17s 183ms/step - loss: 0.0159 - accuracy: 0.9946 - val_loss: 0.9325 - val_accuracy: 0.8389\n",
      "Epoch 78/100\n",
      "93/93 [==============================] - 17s 183ms/step - loss: 0.0091 - accuracy: 0.9963 - val_loss: 0.9392 - val_accuracy: 0.8663\n",
      "Epoch 79/100\n",
      "93/93 [==============================] - 17s 185ms/step - loss: 0.0026 - accuracy: 0.9990 - val_loss: 0.9454 - val_accuracy: 0.8632\n",
      "Epoch 80/100\n",
      "93/93 [==============================] - 17s 184ms/step - loss: 0.0035 - accuracy: 0.9983 - val_loss: 1.0944 - val_accuracy: 0.8632\n",
      "Epoch 81/100\n",
      "93/93 [==============================] - 17s 184ms/step - loss: 0.0067 - accuracy: 0.9976 - val_loss: 1.6497 - val_accuracy: 0.8450\n",
      "Epoch 82/100\n",
      "93/93 [==============================] - 17s 184ms/step - loss: 0.0039 - accuracy: 0.9983 - val_loss: 1.3710 - val_accuracy: 0.8723\n",
      "Epoch 83/100\n",
      "93/93 [==============================] - 17s 183ms/step - loss: 0.0048 - accuracy: 0.9976 - val_loss: 2.1596 - val_accuracy: 0.7112\n",
      "Epoch 84/100\n",
      "93/93 [==============================] - 17s 184ms/step - loss: 0.0058 - accuracy: 0.9973 - val_loss: 2.6971 - val_accuracy: 0.7660\n",
      "Epoch 85/100\n",
      "93/93 [==============================] - 17s 183ms/step - loss: 0.0127 - accuracy: 0.9970 - val_loss: 1.0590 - val_accuracy: 0.8723\n",
      "Epoch 86/100\n",
      "93/93 [==============================] - 17s 183ms/step - loss: 0.0093 - accuracy: 0.9976 - val_loss: 0.8332 - val_accuracy: 0.8632\n",
      "Epoch 87/100\n",
      "93/93 [==============================] - 17s 187ms/step - loss: 0.0087 - accuracy: 0.9973 - val_loss: 0.8329 - val_accuracy: 0.8602\n",
      "Epoch 88/100\n",
      "93/93 [==============================] - 17s 185ms/step - loss: 0.0043 - accuracy: 0.9980 - val_loss: 0.9400 - val_accuracy: 0.8511\n",
      "Epoch 89/100\n",
      "93/93 [==============================] - 17s 183ms/step - loss: 0.0118 - accuracy: 0.9970 - val_loss: 2.0935 - val_accuracy: 0.7021\n",
      "Epoch 90/100\n",
      "93/93 [==============================] - 17s 183ms/step - loss: 0.0029 - accuracy: 0.9993 - val_loss: 0.9709 - val_accuracy: 0.8845\n",
      "Epoch 91/100\n",
      "93/93 [==============================] - 17s 183ms/step - loss: 0.0011 - accuracy: 1.0000 - val_loss: 1.2739 - val_accuracy: 0.8693\n",
      "Epoch 92/100\n",
      "93/93 [==============================] - 17s 184ms/step - loss: 0.0025 - accuracy: 0.9990 - val_loss: 1.1655 - val_accuracy: 0.8784\n",
      "Epoch 93/100\n",
      "93/93 [==============================] - 17s 183ms/step - loss: 0.0180 - accuracy: 0.9943 - val_loss: 0.8380 - val_accuracy: 0.8571\n",
      "Epoch 94/100\n",
      "93/93 [==============================] - 17s 183ms/step - loss: 0.0051 - accuracy: 0.9983 - val_loss: 0.8778 - val_accuracy: 0.8693\n",
      "Epoch 95/100\n",
      "93/93 [==============================] - 17s 184ms/step - loss: 0.0081 - accuracy: 0.9973 - val_loss: 1.2082 - val_accuracy: 0.8298\n",
      "Epoch 96/100\n",
      "93/93 [==============================] - 17s 183ms/step - loss: 0.0144 - accuracy: 0.9956 - val_loss: 1.0239 - val_accuracy: 0.8723\n",
      "Epoch 97/100\n",
      "93/93 [==============================] - 17s 182ms/step - loss: 0.0103 - accuracy: 0.9963 - val_loss: 0.7196 - val_accuracy: 0.8875\n",
      "Epoch 98/100\n",
      "93/93 [==============================] - 17s 184ms/step - loss: 0.0066 - accuracy: 0.9976 - val_loss: 1.0038 - val_accuracy: 0.8754\n",
      "Epoch 99/100\n",
      "93/93 [==============================] - 17s 183ms/step - loss: 0.0033 - accuracy: 0.9983 - val_loss: 1.1865 - val_accuracy: 0.8663\n",
      "Epoch 100/100\n",
      "93/93 [==============================] - 17s 183ms/step - loss: 0.0069 - accuracy: 0.9976 - val_loss: 1.7397 - val_accuracy: 0.7781\n"
     ]
    }
   ],
   "source": [
    "history = model.fit(X_train,y_train,\n",
    "          epochs=100,\n",
    "          validation_split=0.1,initial_epoch=0)"
   ]
  },
  {
   "cell_type": "code",
   "execution_count": 13,
   "metadata": {
    "collapsed": false
   },
   "outputs": [
    {
     "data": {
      "text/plain": [
       "<matplotlib.legend.Legend at 0x7fdc3c0eb070>"
      ]
     },
     "execution_count": 13,
     "metadata": {},
     "output_type": "execute_result"
    },
    {
     "data": {
      "image/png": "[encoded data removed]",
      "text/plain": [
       "<Figure size 432x288 with 1 Axes>"
      ]
     },
     "metadata": {
      "needs_background": "light"
     },
     "output_type": "display_data"
    }
   ],
   "source": [
    "plt.plot(history.history['accuracy'], label='accuracy')\n",
    "plt.plot(history.history['val_accuracy'], label = 'val_accuracy')\n",
    "plt.xlabel('Epoch')\n",
    "plt.ylabel('Accuracy')\n",
    "plt.ylim([0.5, 1])\n",
    "plt.legend(loc='lower right')"
   ]
  },
  {
   "cell_type": "code",
   "execution_count": 14,
   "metadata": {
    "collapsed": false
   },
   "outputs": [
    {
     "data": {
      "text/html": [
       "<div>\n",
       "<style scoped>\n",
       "    .dataframe tbody tr th:only-of-type {\n",
       "        vertical-align: middle;\n",
       "    }\n",
       "\n",
       "    .dataframe tbody tr th {\n",
       "        vertical-align: top;\n",
       "    }\n",
       "\n",
       "    .dataframe thead th {\n",
       "        text-align: right;\n",
       "    }\n",
       "</style>\n",
       "<table border=\"1\" class=\"dataframe\">\n",
       "  <thead>\n",
       "    <tr style=\"text-align: right;\">\n",
       "      <th></th>\n",
       "      <th>loss</th>\n",
       "      <th>accuracy</th>\n",
       "      <th>val_loss</th>\n",
       "      <th>val_accuracy</th>\n",
       "    </tr>\n",
       "  </thead>\n",
       "  <tbody>\n",
       "    <tr>\n",
       "      <th>0</th>\n",
       "      <td>0.211246</td>\n",
       "      <td>0.914894</td>\n",
       "      <td>0.202755</td>\n",
       "      <td>0.927052</td>\n",
       "    </tr>\n",
       "    <tr>\n",
       "      <th>1</th>\n",
       "      <td>0.100840</td>\n",
       "      <td>0.960486</td>\n",
       "      <td>3.365376</td>\n",
       "      <td>0.531915</td>\n",
       "    </tr>\n",
       "    <tr>\n",
       "      <th>2</th>\n",
       "      <td>0.103122</td>\n",
       "      <td>0.962850</td>\n",
       "      <td>0.197268</td>\n",
       "      <td>0.936170</td>\n",
       "    </tr>\n",
       "    <tr>\n",
       "      <th>3</th>\n",
       "      <td>0.061267</td>\n",
       "      <td>0.976359</td>\n",
       "      <td>0.580013</td>\n",
       "      <td>0.869301</td>\n",
       "    </tr>\n",
       "    <tr>\n",
       "      <th>4</th>\n",
       "      <td>0.065758</td>\n",
       "      <td>0.976359</td>\n",
       "      <td>4.773645</td>\n",
       "      <td>0.522796</td>\n",
       "    </tr>\n",
       "  </tbody>\n",
       "</table>\n",
       "</div>"
      ],
      "text/plain": [
       "       loss  accuracy  val_loss  val_accuracy\n",
       "0  0.211246  0.914894  0.202755      0.927052\n",
       "1  0.100840  0.960486  3.365376      0.531915\n",
       "2  0.103122  0.962850  0.197268      0.936170\n",
       "3  0.061267  0.976359  0.580013      0.869301\n",
       "4  0.065758  0.976359  4.773645      0.522796"
      ]
     },
     "execution_count": 14,
     "metadata": {},
     "output_type": "execute_result"
    }
   ],
   "source": [
    "results = pd.DataFrame(history.history)\n",
    "results.head()"
   ]
  },
  {
   "cell_type": "code",
   "execution_count": 15,
   "metadata": {
    "collapsed": true
   },
   "outputs": [],
   "source": [
    "import pickle\n",
    "import tempfile\n",
    "from tensorflow.keras.models import Sequential, load_model, save_model, Model\n",
    "from tensorflow.keras.layers import Dense\n",
    "\n",
    "# Hotfix function\n",
    "def make_keras_picklable():\n",
    "    def __getstate__(self):\n",
    "        model_str = \"\"\n",
    "        with tempfile.NamedTemporaryFile(suffix='.hdf5', delete=True) as fd:\n",
    "            save_model(self, fd.name, overwrite=True)\n",
    "            model_str = fd.read()\n",
    "        d = {'model_str': model_str}\n",
    "        return d\n",
    "\n",
    "    def __setstate__(self, state):\n",
    "        with tempfile.NamedTemporaryFile(suffix='.hdf5', delete=True) as fd:\n",
    "            fd.write(state['model_str'])\n",
    "            fd.flush()\n",
    "            model = load_model(fd.name)\n",
    "        self.__dict__ = model.__dict__\n",
    "\n",
    "\n",
    "    cls = Model\n",
    "    cls.__getstate__ = __getstate__\n",
    "    cls.__setstate__ = __setstate__\n",
    "\n",
    "# Run the function\n",
    "make_keras_picklable()"
   ]
  },
  {
   "cell_type": "code",
   "execution_count": 16,
   "metadata": {
    "collapsed": true
   },
   "outputs": [],
   "source": [
    "model = model"
   ]
  },
  {
   "cell_type": "code",
   "execution_count": 17,
   "metadata": {
    "collapsed": true
   },
   "outputs": [],
   "source": [
    "# Saving the model for Future Inferences\n",
    "\n",
    "model_json = model.to_json()\n",
    "with open(\"/home/apprenant/PycharmProjects/ClimateProject---E3/model/model_tuner.json\", \"w\") as json_file:\n",
    "    json_file.write(model_json)\n",
    "# serialize weights to HDF5\n",
    "model.save_weights(\"/home/apprenant/PycharmProjects/ClimateProject---E3/model/model_tuner.h5\")"
   ]
  }
 ],
 "metadata": {
  "anaconda-cloud": {},
  "kernelspec": {
   "display_name": "Python 3",
   "language": "python",
   "name": "python3"
  },
  "language_info": {
   "codemirror_mode": {
    "name": "ipython",
    "version": 3
   },
   "file_extension": ".py",
   "mimetype": "text/x-python",
   "name": "python",
   "nbconvert_exporter": "python",
   "pygments_lexer": "ipython3",
   "version": "3.8.10"
  }
 },
 "nbformat": 4,
 "nbformat_minor": 1
}
